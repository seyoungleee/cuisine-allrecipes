{
 "cells": [
  {
   "cell_type": "markdown",
   "id": "2c54dd39",
   "metadata": {},
   "source": [
    "# Get cuisine ingredients\n",
    "\n",
    "Description: This file retrieves information about ingredients from each cuisine and exports a file with all cuisine ingredient data."
   ]
  },
  {
   "cell_type": "code",
   "execution_count": 104,
   "id": "9a927e84",
   "metadata": {},
   "outputs": [],
   "source": [
    "# Set up\n",
    "import urllib.request\n",
    "import os\n",
    "import string\n",
    "import statistics\n",
    "import csv\n",
    "\n",
    "from pathlib import Path\n",
    "from bs4 import BeautifulSoup as bs\n",
    "from nltk.tokenize import word_tokenize\n",
    "from IPython.core.interactiveshell import InteractiveShell\n",
    "InteractiveShell.ast_node_interactivity = \"all\"\n",
    "\n",
    "from collections import defaultdict\n",
    "\n",
    "url = \"https://www.allrecipes.com/cuisine-a-z-6740455\"\n",
    "fhand = urllib.request.urlopen(url)\n",
    "html = fhand.read()\n",
    "soup = bs(html, \"html.parser\")\n",
    "\n",
    "current_directory = Path.cwd()"
   ]
  },
  {
   "cell_type": "code",
   "execution_count": 77,
   "id": "9d7cce9f",
   "metadata": {},
   "outputs": [],
   "source": [
    "# Create all food items data\n",
    "\n",
    "# Food database\n",
    "# food1.csv - https://fdc.nal.usda.gov/\n",
    "# food2.csv - https://foodb.ca/downloads\n",
    "# food3.csv - https://data.world/alexandra/generic-food-database/workspace/file?filename=generic-food.csv\n",
    "# food4.csv - https://github.com/carolinehermans/feed-me/blob/master/ingredients.csv\n",
    "# food5.csv - https://cosylab.iiitd.edu.in/culinarydb/\n",
    "\n",
    "def get_all_foods():\n",
    "    foods = [\"food1.csv\", \"food2.csv\", \"food3.csv\", \"food4.csv\", \"food5.csv\", \"vegetables.csv\"]\n",
    "    unique_food_items = set()\n",
    "    \n",
    "    for food in foods:\n",
    "        food_file_path = current_directory / \"food_data\" / food\n",
    "        \n",
    "        with open(food_file_path, \"r\") as csvfile:\n",
    "            csv_reader = csv.reader(csvfile)\n",
    "            \n",
    "            for row in csv_reader:\n",
    "                if row:\n",
    "                    food_item = row[0]\n",
    "                    cleaned_food_item = food_item.lower().split(' (', 1)[0]\n",
    "                    unique_food_items.add(cleaned_food_item)\n",
    "    \n",
    "    return unique_food_items"
   ]
  },
  {
   "cell_type": "code",
   "execution_count": 74,
   "id": "1519d529",
   "metadata": {},
   "outputs": [
    {
     "name": "stdout",
     "output_type": "stream",
     "text": [
      "50\n"
     ]
    }
   ],
   "source": [
    "# Get cuisine URLs\n",
    "cuisine_blocks = soup.find_all(\"div\", {\"class\": \"alphabetical-list__group\"})\n",
    "cuisine_urls = set()\n",
    "\n",
    "for block in cuisine_blocks:\n",
    "    cuisine_in_block = block.find_all(class_ = \"comp link-list__item\")\n",
    "    \n",
    "    # Loop through each cuisine in the block\n",
    "    for cuisine in cuisine_in_block:\n",
    "        cuisine_url = cuisine.find(\"a\")[\"href\"]\n",
    "        cuisine_urls.add(cuisine_url)\n",
    "\n",
    "cuisine_urls.add(\"https://www.allrecipes.com/recipes/728/world-cuisine/latin-american/mexican/\")\n",
    "\n",
    "print(len(cuisine_urls))\n",
    "\n",
    "# Retrieve dish URLs\n",
    "def get_dish_url(cuisine_soup):\n",
    "    dish_urls = []\n",
    "    a_elem = cuisine_soup.find_all(\"a\", class_ = \"comp mntl-card-list-items mntl-document-card mntl-card card card--no-image\")\n",
    "        \n",
    "    for elem in a_elem:\n",
    "        dish_url = elem.get(\"href\")\n",
    "        dish_urls.append(dish_url)\n",
    "    \n",
    "    return dish_urls\n",
    "\n",
    "# Retrieve cuisine names\n",
    "def get_cuisine_name(cuisine_soup):\n",
    "    cuisine_name = cuisine_soup.find(\"h1\", {\"class\": \"comp mntl-taxonomysc-heading mntl-text-block\"}).text.split()\n",
    "    return cuisine_name[0]"
   ]
  },
  {
   "cell_type": "code",
   "execution_count": 75,
   "id": "bdccd9af",
   "metadata": {},
   "outputs": [],
   "source": [
    "# Get ingredients from each dish\n",
    "def get_ingred(dish_soup):\n",
    "    ingred_elements = dish_soup.find_all(\"span\", {\"data-ingredient-name\": \"true\"})\n",
    "    \n",
    "    ingredients = set()\n",
    "    \n",
    "    for ingred_elem in ingred_elements:\n",
    "        ingred_name = ingred_elem.text if ingred_elem else None\n",
    "        cleaned_ingred_name = ingred_name.split(',')[0].strip().lower()\n",
    "        \n",
    "        all_unique_foods = get_all_foods()\n",
    "        for food_item in all_unique_foods:\n",
    "            if cleaned_ingred_name == food_item:\n",
    "                ingredients.add(cleaned_ingred_name)\n",
    "    \n",
    "    return ingredients"
   ]
  },
  {
   "cell_type": "code",
   "execution_count": 78,
   "id": "ad818c37",
   "metadata": {},
   "outputs": [
    {
     "name": "stdout",
     "output_type": "stream",
     "text": [
      "Getting ingredients for Southern...\n",
      "{'eggs': 9, 'milk': 11, 'butter': 19, 'sweet potato': 1, 'brown sugar': 2, 'baking powder': 4, 'salt': 30, 'all-purpose flour': 24, 'cornmeal': 4, 'worcestershire sauce': 6, 'garlic': 11, 'peanut oil': 1, 'onion': 10, 'celery': 4, 'green bell pepper': 4, 'cayenne pepper': 8, 'olive oil': 4, 'bay leaves': 3, 'water': 13, 'mayonnaise': 2, 'jalapeno pepper': 1, 'cream cheese': 3, 'cabbage': 3, 'buttermilk': 7, 'lemon juice': 1, 'bacon': 5, 'pepper': 2, 'rum': 1, 'vegetable oil': 4, 'white onion': 3, 'cocoa': 1, 'vanilla': 1, 'white pepper': 2, 'chicken': 1, 'flour': 1, 'black pepper': 4, 'paprika': 4, 'egg': 5, 'lemon': 1, 'yellow bell pepper': 1, 'red bell pepper': 1, 'okra': 1, 'lard': 1, 'evaporated milk': 1, 'shortening': 1, 'mushrooms': 1, 'bay leaf': 1, 'vinegar': 2, 'orange': 1, 'orange juice': 1, 'sour cream': 1, 'chicken stock': 1, 'shrimp': 1, 'ketchup': 1, 'honey': 1, 'molasses': 1, 'red onion': 1, 'turnip greens': 1, 'dijon mustard': 1, 'margarine': 1}\n",
      "Getting ingredients for Puerto...\n",
      "{'coconut milk': 7, 'sugar': 1, 'black pepper': 2, 'garlic': 19, 'tomatoes': 1, 'salt': 25, 'evaporated milk': 7, 'water': 17, 'olive oil': 18, 'bay leaf': 3, 'potato': 1, 'butter': 6, 'eggs': 4, 'white wine': 1, 'potatoes': 3, 'capers': 5, 'vegetable oil': 7, 'onion': 8, 'oregano': 2, 'tomato paste': 4, 'green bell pepper': 7, 'red bell pepper': 3, 'ketchup': 1, 'mayonnaise': 2, 'cornmeal': 1, 'white wine vinegar': 1, 'lime': 1, 'beef stock': 1, 'baking powder': 2, 'all-purpose flour': 6, 'egg yolk': 1, 'egg': 1, 'milk': 5, 'cooking spray': 2, 'white rice': 1, 'canola oil': 2, 'apple cider vinegar': 1, 'worcestershire sauce': 1, 'soy sauce': 2, 'orange juice': 2, 'tequila': 1, 'green beans': 1, 'lettuce': 1, 'tomato': 1, 'cumin': 1, 'cream cheese': 1, 'lard': 1, 'ham': 1, 'yautia': 1, 'liquid smoke': 1, 'cayenne pepper': 1, 'red wine vinegar': 1, 'bay leaves': 1, 'corn oil': 1, 'white bread': 1, 'whole wheat bread': 1, 'cucumber': 1, 'lentils': 1, 'shortening': 1, 'white onion': 1, 'bacon': 1}\n",
      "Getting ingredients for Colombian...\n",
      "{'plum tomato': 1, 'salt': 5, 'lime': 1, 'olive oil': 1, 'onion': 2, 'apple cider vinegar': 1, 'garlic': 2, 'jalapeno pepper': 1, 'water': 1, 'eggs': 2, 'vegetable oil': 1, 'milk': 1, 'potatoes': 1, 'butter': 1, 'butternut squash': 1, 'curry powder': 1, 'worcestershire sauce': 1, 'all-purpose flour': 1, 'egg': 1, 'icing sugar': 1}\n",
      "Getting ingredients for Dutch...\n",
      "{'baking powder': 6, 'salt': 8, 'all-purpose flour': 15, 'egg': 7, 'shortening': 2, 'milk': 4, 'water': 6, 'eggs': 6, 'maple syrup': 1, 'butter': 13, 'pepper': 1, 'paprika': 2, 'worcestershire sauce': 1, 'white bread': 1, 'onion': 1, 'bay leaves': 1, 'oil': 1, 'curry powder': 1, 'cloves': 1, 'vinegar': 1, 'brown sugar': 1, 'lemon': 1, 'olive oil': 1, 'vegetable oil': 1, 'green bell pepper': 1, 'red bell pepper': 1, 'lemon juice': 1}\n",
      "Getting ingredients for Tex-Mex...\n",
      "{'mayonnaise': 3, 'salt': 11, 'eggs': 6, 'tomato': 4, 'sour cream': 11, 'chicken stock': 1, 'olive oil': 11, 'tomato paste': 1, 'cooking spray': 7, 'oregano': 1, 'water': 10, 'salsa': 9, 'cumin': 1, 'garlic': 11, 'egg': 2, 'red bell pepper': 7, 'ricotta cheese': 1, 'canola oil': 3, 'carrot': 2, 'cayenne pepper': 4, 'onion': 10, 'apple cider vinegar': 1, 'jalapeno pepper': 7, 'avocado': 3, 'celery': 2, 'lime': 5, 'vegetable oil': 2, 'butter': 3, 'green bell pepper': 4, 'all-purpose flour': 3, 'sugar': 1, 'paprika': 2, 'cooking oil': 1, 'milk': 1, 'lettuce': 1, 'worcestershire sauce': 2, 'tomatoes': 2, 'brown rice': 1, 'white onion': 1, 'potatoes': 2, 'jalapeno': 1, 'lemon': 1, 'kidney beans': 1, 'capers': 1, 'tomatillos': 1, 'corn': 2, 'white bread': 1, 'red onion': 3, 'iceberg lettuce': 2, 'tuna': 1, 'margarine': 2, 'brown sugar': 1, 'yellow bell pepper': 1, 'cream cheese': 1, 'egg yolk': 1, 'dijon mustard': 1}\n",
      "Getting ingredients for Vietnamese...\n",
      "{'mayonnaise': 4, 'lime': 9, 'water': 21, 'canola oil': 3, 'garlic': 29, 'carrot': 7, 'salt': 13, 'eggs': 2, 'jalapeno pepper': 3, 'hoisin sauce': 3, 'peanut oil': 1, 'watercress': 1, 'soy sauce': 9, 'vegetable oil': 13, 'coconut milk': 3, 'bay leaves': 1, 'onion': 9, 'star anise': 1, 'lettuce': 1, 'shallots': 4, 'olive oil': 6, 'cucumber': 3, 'daikon radish': 1, 'red onion': 3, 'oil': 1, 'sesame oil': 5, 'shrimp': 1, 'egg': 2, 'shallot': 3, 'lemon grass': 5, 'chicken stock': 1, 'coriander seed': 1, 'paprika': 2, 'curry powder': 2, 'ginger': 2, 'green onion': 3, 'brown sugar': 4, 'lemon': 2, 'lemon juice': 1, 'cabbage': 2, 'black pepper': 1, 'romaine lettuce': 1, 'mushrooms': 1, 'green bell pepper': 1, 'potatoes': 1, 'bay leaf': 1, 'radishes': 1, 'egg yolk': 1, 'maple syrup': 1, 'lemongrass': 1, 'cayenne pepper': 1}\n",
      "Getting ingredients for Thai...\n",
      "{'salt': 11, 'eggs': 3, 'vegetable oil': 17, 'paprika': 1, 'garlic': 24, 'lime': 5, 'coconut milk': 22, 'sugar': 3, 'water': 18, 'brown sugar': 11, 'soy sauce': 16, 'lemon grass': 3, 'ginger': 2, 'peanut butter': 4, 'butter': 1, 'lemon': 1, 'white wine vinegar': 1, 'honey': 3, 'cooking oil': 4, 'all-purpose flour': 2, 'curry powder': 7, 'onion': 12, 'green bell pepper': 3, 'red bell pepper': 13, 'cayenne pepper': 4, 'cucumber': 2, 'sriracha': 1, 'sesame oil': 5, 'coconut oil': 1, 'chicken stock': 2, 'olive oil': 4, 'lemon juice': 1, 'bamboo shoots': 1, 'corn oil': 1, 'lemongrass': 1, 'peanut oil': 4, 'monkfish': 1, 'maple syrup': 1, 'shallots': 4, 'chinese broccoli': 1, 'jalapeno pepper': 1, 'snow peas': 1, 'bok choy': 1, 'chicken breast': 2, 'bacon': 1, 'baking powder': 1, 'carrot': 1, 'mushrooms': 1, 'galangal': 1, 'green onion': 1, 'cooking spray': 1, 'sirloin steak': 1, 'garam masala': 1, 'worcestershire sauce': 1}\n",
      "Getting ingredients for Canadian...\n",
      "{'butter': 20, 'egg': 9, 'milk': 10, 'salt': 25, 'cayenne pepper': 5, 'paprika': 5, 'water': 15, 'lemon juice': 3, 'apple cider vinegar': 1, 'green bell pepper': 2, 'potatoes': 4, 'lemon': 2, 'eggs': 9, 'all-purpose flour': 20, 'vegetable oil': 4, 'tomato': 1, 'onion': 8, 'garlic': 7, 'evaporated milk': 3, 'baking powder': 5, 'brown sugar': 8, 'celery': 2, 'black pepper': 2, 'bacon': 3, 'ketchup': 1, 'olive oil': 4, 'molasses': 1, 'worcestershire sauce': 1, 'soy sauce': 3, 'canola oil': 3, 'cabbage': 1, 'turnip': 2, 'carrot': 1, 'sesame oil': 2, 'red bell pepper': 1, 'tomatoes': 2, 'sugar': 1, 'vinegar': 1, 'margarine': 3, 'cream cheese': 2, 'apple cider': 1, 'mayonnaise': 1, 'sour cream': 1, 'kidney beans': 1, 'salsa': 1, 'dijon mustard': 1, 'orange': 1, 'cod': 1, 'salmon': 1, 'shrimp': 1, 'maple syrup': 3, 'red wine': 1, 'shallots': 1, 'white wine': 1, 'red wine vinegar': 1, 'plum tomatoes': 1, 'cranberry juice': 1}\n",
      "Getting ingredients for Israeli...\n",
      "{'salt': 9, 'onion': 5, 'olive oil': 8, 'garlic': 6, 'tomatoes': 2, 'cayenne pepper': 1, 'water': 8, 'paprika': 1, 'red bell pepper': 4, 'baking powder': 3, 'canola oil': 1, 'all-purpose flour': 4, 'eggs': 6, 'potatoes': 1, 'black pepper': 1, 'zucchini': 1, 'vegetable oil': 3, 'honey': 1, 'sugar': 1, 'brown rice': 1, 'oregano': 1, 'butter': 1, 'red wine vinegar': 1, 'margarine': 1, 'egg': 1, 'yellow bell pepper': 1, 'orange': 1, 'lemon': 1, 'dates': 1, 'tomato paste': 1, 'saffron': 1, 'jalapeno pepper': 1, 'scallion': 1, 'radishes': 1, 'green bell pepper': 1, 'lemon juice': 2, 'milk': 1, 'sesame oil': 1, 'peanut butter': 1}\n",
      "Getting ingredients for Cuban...\n",
      "{'strawberries': 1, 'lemon juice': 5, 'tomato paste': 6, 'olive oil': 24, 'vegetable oil': 8, 'green bell pepper': 13, 'onion': 20, 'garlic': 29, 'butter': 3, 'mayonnaise': 4, 'cayenne pepper': 4, 'swiss cheese': 2, 'mustard': 1, 'mint': 2, 'salt': 21, 'lard': 1, 'all-purpose flour': 2, 'cornmeal': 1, 'flour': 1, 'lime': 8, 'orange juice': 6, 'white wine vinegar': 1, 'bay leaves': 11, 'potatoes': 4, 'allspice': 1, 'red onion': 4, 'white wine': 1, 'paprika': 2, 'capers': 3, 'bacon': 1, 'red wine vinegar': 5, 'oregano': 1, 'water': 14, 'cumin': 2, 'bay leaf': 3, 'orange': 1, 'condensed milk': 1, 'evaporated milk': 2, 'radishes': 1, 'tomatoes': 1, 'black pepper': 3, 'carrot': 3, 'celery': 2, 'lemon': 1, 'millet': 1, 'butternut squash': 1, 'kidney beans': 1, 'tomato puree': 1, 'tomato': 1, 'red bell pepper': 4, 'chicken stock': 1, 'bell pepper': 1, 'rice': 1, 'vinegar': 2, 'cooking spray': 1, 'worcestershire sauce': 1, 'grapeseed oil': 1, 'beer': 1, 'rabbit': 1, 'sour cream': 1, 'rum': 1, 'brandy': 1, 'egg': 2}\n"
     ]
    },
    {
     "name": "stdout",
     "output_type": "stream",
     "text": [
      "Getting ingredients for Filipino...\n",
      "{'lemon': 2, 'olive oil': 10, 'onion': 25, 'garlic': 26, 'green onion': 1, 'carrot': 5, 'cabbage': 5, 'vegetable oil': 20, 'soy sauce': 16, 'cooking oil': 2, 'bok choy': 3, 'chicken': 1, 'black pepper': 3, 'bay leaf': 1, 'zucchini': 1, 'tomato': 4, 'bitter melon': 1, 'eggplant': 1, 'plum tomatoes': 1, 'salt': 15, 'water': 25, 'coconut milk': 6, 'evaporated milk': 4, 'eggs': 2, 'red bell pepper': 4, 'paprika': 1, 'egg yolk': 1, 'butter': 5, 'all-purpose flour': 5, 'squid': 1, 'canola oil': 2, 'pepper': 1, 'cayenne pepper': 1, 'potato': 1, 'vinegar': 3, 'beef stock': 1, 'bay leaves': 6, 'oil': 1, 'orange bell pepper': 1, 'baking powder': 2, 'milk': 2, 'okra': 1, 'tomatoes': 5, 'cocoa powder': 1, 'celery': 1, 'potatoes': 4, 'brown sugar': 6, 'ketchup': 1, 'sesame oil': 2, 'worcestershire sauce': 1, 'lemon juice': 1, 'honey': 2, 'sugar': 1, 'green bell pepper': 1, 'orange juice': 1, 'ginger': 2, 'chicken stock': 1, 'tomato paste': 1, 'apple cider vinegar': 1}\n",
      "Getting ingredients for Swedish...\n",
      "{'salt': 26, 'butter': 25, 'all-purpose flour': 27, 'egg': 9, 'sour cream': 4, 'onion': 4, 'brown sugar': 4, 'cinnamon': 1, 'cayenne pepper': 2, 'eggs': 14, 'cooking spray': 2, 'worcestershire sauce': 5, 'milk': 18, 'orange': 2, 'brandy': 2, 'port wine': 1, 'rum': 1, 'potatoes': 1, 'cocoa powder': 1, 'coconut oil': 1, 'evaporated milk': 2, 'olive oil': 2, 'vinegar': 1, 'water': 12, 'egg yolk': 3, 'molasses': 1, 'vegetable oil': 3, 'baking powder': 4, 'marzipan': 1, 'sugar': 5, 'cream cheese': 1, 'blueberries': 1, 'cottage cheese': 1, 'white rice': 1, 'cream': 1, 'bread': 1, 'beef stock': 1, 'sherry': 1, 'maple syrup': 1, 'shortening': 2, 'nutmeg': 1, 'margarine': 1, 'vanilla': 1, 'paprika': 1}\n",
      "Getting ingredients for Greek...\n",
      "{'egg yolk': 1, 'salt': 16, 'butter': 10, 'all-purpose flour': 10, 'tomato paste': 3, 'eggs': 8, 'egg': 4, 'onion': 10, 'milk': 4, 'garlic': 21, 'lemon juice': 11, 'lemon': 11, 'olive oil': 32, 'soy sauce': 1, 'red onion': 7, 'lettuce': 1, 'tomato': 2, 'hummus': 1, 'phyllo dough': 5, 'honey': 4, 'water': 13, 'spinach': 1, 'ricotta cheese': 1, 'potatoes': 5, 'oregano': 1, 'bread': 1, 'red wine vinegar': 5, 'feta cheese': 1, 'tomatoes': 3, 'cucumber': 4, 'green bell pepper': 2, 'red wine': 2, 'white wine vinegar': 2, 'pepper': 1, 'brandy': 1, 'celery': 1, 'bay leaf': 1, 'margarine': 1, 'carrot': 1, 'bay leaves': 2, 'zucchini': 2, 'lentils': 1, 'eggplant': 1, 'red bell pepper': 1, 'white wine': 1, 'ketchup': 1, 'vinegar': 1, 'sour cream': 1, 'paprika': 2, 'black pepper': 1, 'vegetable oil': 1, 'cayenne pepper': 1, 'baking powder': 3, 'sugar': 1, 'quinoa': 1, 'cooking spray': 1, 'orange': 1}\n",
      "Getting ingredients for Mexican...\n",
      "{'vegetable oil': 12, 'apple cider vinegar': 3, 'salt': 20, 'oregano': 5, 'orange juice': 3, 'avocado': 6, 'sour cream': 11, 'onion': 19, 'green bell pepper': 3, 'red bell pepper': 6, 'black pepper': 4, 'coriander': 1, 'paprika': 3, 'garlic': 18, 'tomatoes': 2, 'bay leaves': 4, 'water': 9, 'mayonnaise': 1, 'brown sugar': 2, 'ginger': 1, 'sake': 1, 'soy sauce': 1, 'canola oil': 2, 'cayenne pepper': 5, 'milk': 4, 'shortening': 1, 'all-purpose flour': 2, 'egg': 3, 'baking powder': 3, 'eggs': 6, 'olive oil': 14, 'cooking spray': 3, 'sweet potato': 1, 'cream cheese': 2, 'monterey jack cheese': 1, 'red onion': 4, 'jalapeno pepper': 3, 'butter': 3, 'pepper': 2, 'shrimp': 2, 'red pepper': 1, 'green pepper': 1, 'lime': 8, 'avocado oil': 2, 'cinnamon': 1, 'salted butter': 2, 'vanilla': 1, 'strawberries': 1, 'sugar': 1, 'orange': 1, 'cumin': 2, 'white onion': 2, 'mexican oregano': 1, 'lard': 2, 'brussels sprouts': 1, 'monterey jack': 1, 'radishes': 1, 'green onion': 1, 'chicken stock': 1, 'honey': 1, 'cabbage': 1, 'white wine': 1, 'whitefish': 1, 'capers': 1, 'tomato': 3, 'cloves': 1, 'pineapple': 1, 'evaporated milk': 1, 'lettuce': 1, 'salsa': 4, 'worcestershire sauce': 1, 'bay leaf': 1, 'red wine vinegar': 1, 'tequila': 2, 'tomato paste': 1, 'tortilla': 1, 'mango': 1, 'cucumber': 1, 'zucchini': 1, 'corn': 1, 'tomatillos': 1, 'cheese': 1, 'sirloin steak': 1, 'dulce de leche': 1}\n",
      "Getting ingredients for Persian...\n",
      "{'vegetable oil': 11, 'sugar': 1, 'lemon juice': 3, 'canola oil': 1, 'water': 13, 'lemon': 3, 'basmati rice': 5, 'butter': 6, 'olive oil': 11, 'garlic': 12, 'onion': 10, 'egg': 2, 'salt': 19, 'saffron': 5, 'turmeric': 3, 'flour': 2, 'black pepper': 2, 'paprika': 2, 'lentils': 1, 'yogurt': 1, 'milk': 1, 'baking powder': 3, 'eggs': 4, 'green onion': 1, 'shallot': 1, 'pepper': 1, 'chicken stock': 2, 'tomato paste': 4, 'sour cream': 2, 'lime': 3, 'grapeseed oil': 3, 'red onion': 1, 'all-purpose flour': 5, 'white wine vinegar': 1, 'curry powder': 3, 'jalapeno pepper': 1, 'honey': 1, 'orange': 1, 'thyme': 1, 'bay leaves': 1, 'red wine': 1, 'tomatoes': 1, 'oil': 1, 'potatoes': 1, 'leek': 1, 'white onion': 1, 'swiss chard': 1, 'carrot': 2, 'cooking oil': 1, 'potato': 1, 'zucchini': 1, 'cabbage': 1, 'green bell pepper': 1, 'butternut squash': 1, 'tomato': 1, 'rice': 1}\n",
      "Getting ingredients for Chinese...\n",
      "{'salt': 16, 'eggs': 10, 'water': 23, 'star anise': 1, 'soy sauce': 43, 'vegetable oil': 27, 'red bell pepper': 7, 'green onion': 4, 'lemon juice': 2, 'orange juice': 1, 'all-purpose flour': 8, 'pepper': 1, 'olive oil': 2, 'sesame oil': 20, 'cayenne pepper': 3, 'egg': 11, 'garlic': 22, 'white wine': 1, 'brown sugar': 8, 'mayonnaise': 2, 'honey': 7, 'ketchup': 7, 'celery': 2, 'apple cider vinegar': 1, 'green bell pepper': 5, 'hoisin sauce': 7, 'baking powder': 3, 'sugar': 4, 'sake': 1, 'white pepper': 1, 'peanut oil': 5, 'chicken stock': 1, 'tomatoes': 1, 'red onion': 1, 'carrot': 5, 'cabbage': 2, 'egg yolk': 1, 'sherry': 1, 'canola oil': 3, 'shallot': 1, 'butter': 3, 'onion': 5, 'green beans': 1, 'white bread': 1, 'milk': 1, 'sirloin steak': 1, 'evaporated milk': 1, 'cooking oil': 1, 'napa cabbage': 1}\n",
      "Getting ingredients for Russian...\n",
      "{'baking powder': 5, 'salt': 33, 'all-purpose flour': 27, 'egg': 11, 'milk': 7, 'mayonnaise': 6, 'potatoes': 12, 'carrot': 5, 'peas': 1, 'eggs': 12, 'cabbage': 6, 'vegetable oil': 13, 'onion': 17, 'bay leaf': 2, 'water': 15, 'sour cream': 21, 'butter': 20, 'leeks': 2, 'lemon': 4, 'margarine': 1, 'caraway seed': 1, 'brown sugar': 2, 'mushrooms': 2, 'tomato paste': 6, 'garlic': 11, 'tomato puree': 1, 'honey': 2, 'cream': 1, 'flour': 2, 'orange juice': 1, 'shortening': 1, 'celery': 3, 'bacon': 3, 'cayenne pepper': 2, 'dijon mustard': 2, 'cooking spray': 1, 'vinegar': 2, 'liquid smoke': 1, 'worcestershire sauce': 3, 'red wine vinegar': 2, 'black pepper': 1, 'vodka': 1, 'cottage cheese': 2, 'cream cheese': 1, 'bay leaves': 1, 'kalamata olives': 1, 'beef stock': 1, 'capers': 1, 'green beans': 1, 'egg yolk': 1, 'olive oil': 2, 'green bell pepper': 1, 'oil': 1, 'buttermilk': 1, 'tomatoes': 1, 'cucumber': 1, 'lemon juice': 1, 'dulce de leche': 1, 'ketchup': 1}\n",
      "Getting ingredients for French...\n",
      "{'butter': 27, 'all-purpose flour': 17, 'celery': 1, 'chicken stock': 1, 'olive oil': 14, 'lemon': 3, 'salt': 22, 'lemon juice': 5, 'egg yolk': 1, 'milk': 7, 'dijon mustard': 5, 'mayonnaise': 1, 'egg': 5, 'onion': 3, 'water': 9, 'garlic': 11, 'potato': 1, 'bacon': 3, 'swiss chard': 1, 'eggs': 11, 'provolone cheese': 2, 'swiss cheese': 5, 'thyme': 1, 'white wine': 3, 'shallot': 3, 'red wine vinegar': 2, 'vanilla': 1, 'cayenne pepper': 3, 'zucchini': 1, 'yellow bell pepper': 1, 'tomato paste': 1, 'red bell pepper': 1, 'eggplant': 1, 'red wine': 4, 'shallots': 2, 'paprika': 2, 'worcestershire sauce': 1, 'bay leaf': 2, 'balsamic vinegar': 1, 'ham': 2, 'sour cream': 2, 'sherry': 1, 'cream cheese': 1, 'cooking spray': 2, 'white onion': 1, 'rum': 1, 'bread': 1, 'bay leaves': 1, 'orange': 1, 'duck': 1, 'cornmeal': 1}\n",
      "Getting ingredients for Korean...\n",
      "{'vegetable oil': 13, 'sesame oil': 28, 'soy sauce': 30, 'black pepper': 5, 'onion': 9, 'water': 13, 'garlic': 25, 'white onion': 1, 'napa cabbage': 4, 'olive oil': 2, 'brown sugar': 10, 'honey': 5, 'salted butter': 1, 'ketchup': 3, 'mayonnaise': 1, 'white bread': 1, 'cayenne pepper': 4, 'eggs': 5, 'green onion': 7, 'asparagus': 1, 'salt': 9, 'cayenne': 1, 'asian pear': 1, 'jalapeno pepper': 2, 'lemon': 1, 'lemon juice': 1, 'carrot': 4, 'cabbage': 1, 'vinegar': 1, 'worcestershire sauce': 1, 'all-purpose flour': 2, 'egg': 3, 'milk': 1, 'canola oil': 2, 'spring onion': 1, 'mushrooms': 1, 'beef stock': 1, 'potatoes': 1, 'ginger': 1, 'butter': 1, 'bacon': 1, 'daikon radish': 1, 'cooking spray': 1, 'cucumber': 2, 'nori': 1, 'sugar': 1, 'monosodium glutamate': 1, 'radishes': 1, 'zucchini': 1}\n"
     ]
    },
    {
     "name": "stdout",
     "output_type": "stream",
     "text": [
      "Getting ingredients for Australian...\n",
      "{'lard': 1, 'salt': 24, 'all-purpose flour': 24, 'onion': 1, 'milk': 9, 'kiwifruit': 1, 'vinegar': 2, 'golden syrup': 6, 'margarine': 3, 'cooking spray': 2, 'orange juice': 1, 'kiwi': 1, 'lemon juice': 5, 'water': 7, 'butter': 18, 'baking powder': 12, 'eggs': 18, 'cocoa powder': 1, 'vegetable oil': 5, 'evaporated milk': 3, 'brown sugar': 4, 'sesame oil': 1, 'sherry': 1, 'soy sauce': 1, 'ketchup': 1, 'black pepper': 1, 'curry powder': 1, 'garlic': 2, 'beef stock': 1, 'coconut milk': 6, 'dates': 1, 'white bread': 1, 'cream cheese': 2, 'pie crust': 1, 'maple syrup': 1, 'sugar': 2, 'honey': 1, 'molasses': 1, 'egg': 8, 'cornmeal': 1, 'vanilla': 1, 'almond milk': 1, 'canola oil': 1, 'lemon': 1}\n",
      "Getting ingredients for Brazilian...\n",
      "{'butter': 9, 'lime': 4, 'bay leaves': 3, 'garlic': 15, 'soy sauce': 2, 'olive oil': 15, 'baking powder': 10, 'salt': 15, 'all-purpose flour': 12, 'eggs': 17, 'coconut milk': 7, 'tomatoes': 3, 'onion': 13, 'vegetable oil': 9, 'red bell pepper': 3, 'milk': 14, 'paprika': 3, 'tomato paste': 1, 'water': 17, 'chicken stock': 2, 'canola oil': 1, 'cornmeal': 3, 'cream': 1, 'mushrooms': 1, 'balsamic vinegar': 1, 'lemon juice': 2, 'cooking oil': 1, 'cayenne pepper': 4, 'bacon': 3, 'bay leaf': 3, 'vinegar': 1, 'green bell pepper': 1, 'lemon': 1, 'brown sugar': 2, 'carrot': 1, 'tomato': 3, 'celery': 1, 'dijon mustard': 1, 'green apple': 1, 'watercress': 1, 'egg': 2, 'shortening': 1, 'collard greens': 2, 'oil': 1, 'orange juice': 1, 'rapeseed oil': 1, 'margarine': 2, 'cinnamon': 1, 'sausage': 1, 'brown rice': 1, 'rum': 1, 'orange': 1, 'red wine vinegar': 1, 'cocoa powder': 1, 'yellow bell pepper': 1, 'evaporated milk': 1}\n",
      "Getting ingredients for Scandinavian...\n",
      "{'soy sauce': 1, 'beef stock': 1, 'all-purpose flour': 35, 'salt': 35, 'butter': 26, 'eggs': 14, 'milk': 21, 'potatoes': 4, 'port wine': 2, 'baking powder': 8, 'buttermilk': 3, 'egg': 15, 'sour cream': 3, 'onion': 2, 'flour': 2, 'brown sugar': 3, 'cinnamon': 2, 'cream cheese': 1, 'water': 12, 'margarine': 3, 'sugar': 3, 'cooking spray': 3, 'cayenne pepper': 3, 'worcestershire sauce': 4, 'orange': 3, 'brandy': 2, 'rum': 1, 'gin': 1, 'lemon juice': 2, 'egg yolk': 2, 'shortening': 2, 'bacon': 2, 'cocoa powder': 1, 'coconut oil': 1, 'evaporated milk': 1, 'pepper': 2, 'vegetable oil': 1, 'paprika': 2, 'olive oil': 1, 'vinegar': 1, 'vodka': 1, 'cabbage': 1, 'red wine': 1, 'cod': 1}\n",
      "Getting ingredients for Lebanese...\n",
      "{'paprika': 2, 'garlic': 17, 'water': 14, 'olive oil': 21, 'vegetable oil': 6, 'tomatoes': 3, 'lemon juice': 12, 'salt': 22, 'cayenne pepper': 4, 'milk': 3, 'clarified butter': 1, 'all-purpose flour': 8, 'tomato paste': 1, 'onion': 11, 'potatoes': 2, 'carrot': 2, 'tomato': 3, 'allspice': 3, 'cooking spray': 1, 'pita bread': 2, 'butter': 4, 'lemon': 5, 'cucumber': 2, 'green bell pepper': 1, 'romaine lettuce': 3, 'egg': 2, 'white onion': 1, 'cumin': 2, 'red wine vinegar': 1, 'cardamom': 1, 'salted butter': 1, 'bulgur': 1, 'black pepper': 1, 'baking powder': 5, 'semolina': 1, 'eggs': 2, 'yeast': 2, 'corn oil': 2, 'parsley': 1, 'radishes': 2, 'red bell pepper': 1, 'swiss chard': 1, 'vinegar': 1, 'canola oil': 1, 'cinnamon': 1, 'mayonnaise': 1, 'oil': 1}\n",
      "Getting ingredients for Spanish...\n",
      "{'garlic': 27, 'orange juice': 4, 'lemon': 7, 'rum': 2, 'orange': 4, 'lime': 4, 'white wine': 5, 'bay leaf': 3, 'olive oil': 21, 'salt': 11, 'mayonnaise': 3, 'tomato paste': 2, 'cayenne pepper': 4, 'bay leaves': 5, 'paprika': 7, 'eggs': 6, 'rabbit': 1, 'tomato': 4, 'water': 8, 'all-purpose flour': 2, 'shortening': 1, 'onion': 18, 'cumin': 3, 'potatoes': 6, 'capers': 2, 'bread': 1, 'red wine': 5, 'ham': 1, 'red bell pepper': 8, 'pepper': 1, 'red wine vinegar': 2, 'cucumber': 2, 'green bell pepper': 9, 'tomato juice': 1, 'milk': 2, 'cream cheese': 1, 'butter': 2, 'salsa': 1, 'baking powder': 1, 'serrano ham': 1, 'white wine vinegar': 2, 'corn oil': 1, 'white rice': 1, 'celery': 1, 'tomatoes': 2, 'shrimp': 1, 'squid': 1, 'saffron': 2, 'green apple': 1, 'black pepper': 1, 'dijon mustard': 1, 'lemon juice': 3, 'potato': 1, 'leek': 1, 'balsamic vinegar': 1, 'brandy': 2, 'carrot': 1, 'rice': 1, 'vegetable oil': 2, 'chicken stock': 1, 'mushrooms': 1, 'curry powder': 2, 'canola oil': 1, 'apple cider vinegar': 1, 'peaches': 1, 'jalapeno pepper': 1, 'evaporated milk': 1, 'peas': 2, 'lentils': 1}\n",
      "Getting ingredients for Finnish...\n",
      "{'baking powder': 4, 'salt': 13, 'butter': 10, 'all-purpose flour': 13, 'eggs': 8, 'milk': 10, 'shortening': 1, 'margarine': 2, 'water': 3, 'potatoes': 2, 'onion': 1, 'celery': 1, 'egg': 2, 'turnip': 1, 'brown sugar': 1, 'icing sugar': 1, 'lemon': 1}\n",
      "Getting ingredients for Pakistani...\n",
      "{'salt': 14, 'red onion': 2, 'egg': 2, 'tomato': 2, 'cooking spray': 2, 'vegetable oil': 11, 'garlic': 6, 'onion': 8, 'tomatoes': 5, 'cayenne pepper': 5, 'olive oil': 3, 'curry powder': 2, 'black pepper': 2, 'peas': 2, 'paprika': 2, 'butter': 1, 'garam masala': 6, 'tomato paste': 1, 'water': 14, 'honey': 1, 'basmati rice': 1, 'sunflower oil': 1, 'lemon': 2, 'spaghetti': 1, 'bay leaves': 1, 'oil': 1, 'bay leaf': 1, 'lemon juice': 2, 'zucchini': 1, 'potatoes': 4, 'clarified butter': 1, 'jalapeno pepper': 1, 'ketchup': 1, 'brown sugar': 2, 'all-purpose flour': 1, 'eggs': 1, 'baking powder': 1, 'ghee': 1, 'chicken': 1, 'green bell pepper': 1, 'mustard oil': 1, 'cauliflower': 1}\n",
      "Getting ingredients for Soul...\n",
      "{'salt': 29, 'egg': 3, 'vegetable oil': 5, 'okra': 2, 'cornmeal': 2, 'black pepper': 3, 'olive oil': 6, 'garlic': 13, 'water': 23, 'all-purpose flour': 16, 'onion': 14, 'vinegar': 1, 'butter': 7, 'cayenne pepper': 11, 'baking powder': 3, 'dijon mustard': 1, 'buttermilk': 6, 'eggs': 5, 'milk': 7, 'turnip greens': 1, 'collard greens': 3, 'mustard greens': 1, 'paprika': 3, 'mayonnaise': 2, 'green bell pepper': 6, 'bay leaf': 5, 'celery': 3, 'apple cider vinegar': 1, 'potato': 1, 'jalapeno pepper': 1, 'bacon': 5, 'worcestershire sauce': 2, 'black-eyed peas': 2, 'molasses': 1, 'maple syrup': 1, 'cheddar cheese': 1, 'bay leaves': 2, 'brown sugar': 1, 'ham': 1, 'pepper': 2, 'evaporated milk': 3, 'white pepper': 1, 'shortening': 1, 'cabbage': 1, 'chicken stock': 1, 'red wine vinegar': 1}\n",
      "Getting ingredients for Amish...\n",
      "{'salt': 38, 'cabbage': 2, 'vegetable oil': 14, 'black pepper': 3, 'onion': 10, 'vinegar': 3, 'bay leaves': 1, 'eggs': 25, 'celery': 2, 'red bell pepper': 1, 'milk': 22, 'all-purpose flour': 30, 'brown sugar': 9, 'margarine': 2, 'potato': 1, 'butter': 11, 'peanut butter': 1, 'bacon': 1, 'ketchup': 1, 'apple cider vinegar': 1, 'baking powder': 17, 'buttermilk': 4, 'water': 7, 'sugar': 1, 'flour': 3, 'canola oil': 1, 'evaporated milk': 1, 'mayonnaise': 2, 'dijon mustard': 1, 'egg': 4, 'shortening': 3, 'molasses': 1, 'apple': 1, 'beer': 1, 'cooking spray': 4, 'curry powder': 1, 'sour cream': 2, 'green bell pepper': 1, 'worcestershire sauce': 1, 'cottage cheese': 1, 'lemon juice': 3, 'carrot': 1, 'pesto': 1, 'sesame oil': 1, 'avocado': 1, 'cucumber': 1, 'sake': 1, 'eggplant': 1, 'soy sauce': 1, 'lemon': 1, 'cocoa powder': 2, 'cream cheese': 1, 'oil': 1}\n",
      "Getting ingredients for Austrian...\n",
      "{'milk': 3, 'eggs': 11, 'salt': 10, 'butter': 8, 'all-purpose flour': 17, 'rum': 2, 'vegetable oil': 2, 'veal': 1, 'baking powder': 6, 'water': 3, 'egg': 4, 'margarine': 1, 'egg yolk': 1, 'egg substitute': 1, 'brown sugar': 1, 'lemon juice': 2, 'lard': 1, 'brandy': 1}\n",
      "Getting ingredients for German...\n",
      "{'bacon': 6, 'sauerkraut': 5, 'brown sugar': 6, 'cooking spray': 3, 'apple': 2, 'onion': 11, 'dijon mustard': 2, 'canola oil': 1, 'salt': 15, 'sour cream': 3, 'water': 10, 'paprika': 6, 'baking powder': 9, 'eggs': 15, 'all-purpose flour': 21, 'strawberries': 1, 'lemon juice': 3, 'margarine': 3, 'shortening': 3, 'honey': 3, 'molasses': 1, 'vegetable oil': 6, 'butter': 16, 'pepper': 2, 'lemon': 2, 'milk': 8, 'egg': 7, 'sugar': 1, 'semolina': 1, 'olive oil': 2, 'cabbage': 2, 'bay leaves': 1, 'red wine': 2, 'garlic': 2, 'red wine vinegar': 2, 'red onion': 1, 'buttermilk': 1, 'caraway seed': 1, 'orange': 1, 'green cabbage': 1, 'marzipan': 1, 'cayenne pepper': 1, 'curry powder': 1, 'savoy cabbage': 1, 'flour': 1, 'chicken stock': 1, 'dates': 1, 'cream cheese': 1, 'kale': 1}\n"
     ]
    },
    {
     "name": "stdout",
     "output_type": "stream",
     "text": [
      "Getting ingredients for Malaysian...\n",
      "{'shallots': 3, 'garlic': 16, 'vegetable oil': 10, 'coconut milk': 8, 'water': 9, 'lemon grass': 3, 'tomatoes': 1, 'ketchup': 2, 'red onion': 1, 'salt': 5, 'galangal': 2, 'lemongrass': 3, 'tomato': 2, 'onion': 4, 'garam masala': 2, 'coconut oil': 1, 'curry powder': 9, 'cayenne pepper': 2, 'shallot': 1, 'soy sauce': 3, 'carrot': 2, 'green bell pepper': 2, 'red bell pepper': 3, 'tomato paste': 1, 'egg': 2, 'black pepper': 1, 'cream cheese': 1, 'eggs': 1, 'sour cream': 1, 'grapeseed oil': 1, 'chicken stock': 1, 'brown sugar': 4, 'mango': 1, 'olive oil': 4, 'peanut butter': 1, 'peanut oil': 2, 'potatoes': 1, 'milk': 1, 'yogurt': 1, 'vinegar': 1, 'yellow bell pepper': 1, 'ginger': 1, 'orange bell pepper': 1}\n",
      "Getting ingredients for Norwegian...\n",
      "{'salt': 14, 'butter': 7, 'all-purpose flour': 16, 'sugar': 1, 'eggs': 6, 'cooking spray': 1, 'milk': 2, 'baking powder': 7, 'potatoes': 2, 'cayenne pepper': 2, 'bacon': 3, 'lemon juice': 1, 'egg': 3, 'water': 3, 'cabbage': 3, 'cod': 1, 'paprika': 1, 'white pepper': 1, 'onion': 1, 'buttermilk': 2, 'evaporated milk': 1, 'caraway seed': 1, 'egg yolk': 1, 'sour cream': 3, 'shortening': 1, 'cinnamon': 1, 'nutmeg': 1}\n",
      "Getting ingredients for Portuguese...\n",
      "{'butter': 10, 'lemon': 1, 'beer': 3, 'water': 15, 'garlic': 21, 'milk': 9, 'salt': 15, 'margarine': 2, 'egg': 2, 'onion': 18, 'olive oil': 18, 'red wine vinegar': 1, 'vegetable oil': 3, 'bay leaves': 7, 'red wine': 3, 'all-purpose flour': 10, 'eggs': 10, 'evaporated milk': 1, 'parsley': 1, 'tomato paste': 3, 'cabbage': 6, 'ketchup': 2, 'potatoes': 13, 'kidney beans': 6, 'vinegar': 1, 'carrot': 1, 'green beans': 2, 'white wine': 3, 'green bell pepper': 3, 'paprika': 6, 'sweet potato': 1, 'macaroni': 1, 'white pepper': 1, 'black pepper': 2, 'bay leaf': 1, 'tomatoes': 3, 'green cabbage': 1, 'celery': 3, 'kale': 3, 'red bell pepper': 1, 'cayenne pepper': 2, 'pork': 1, 'cooking spray': 1, 'baking powder': 1, 'apple cider vinegar': 1, 'cornmeal': 1, 'sugar': 1, 'port wine': 1, 'lemon juice': 2, 'spaghetti': 1, 'orange': 1}\n",
      "Getting ingredients for Bangladeshi...\n",
      "{'cayenne pepper': 5, 'olive oil': 1, 'water': 8, 'onion': 4, 'garlic': 2, 'butter': 1, 'garam masala': 2, 'tomato paste': 1, 'honey': 1, 'salt': 4, 'vegetable oil': 5, 'bay leaf': 1, 'tomatoes': 3, 'coconut milk': 1, 'all-purpose flour': 1, 'mustard oil': 2, 'potatoes': 1}\n",
      "Getting ingredients for Jamaican...\n",
      "{'tomato': 1, 'baking powder': 5, 'water': 11, 'all-purpose flour': 8, 'salt': 17, 'butter': 2, 'eggs': 4, 'red wine': 1, 'brown sugar': 13, 'vegetable oil': 12, 'white onion': 2, 'cayenne pepper': 5, 'black pepper': 3, 'cooking spray': 1, 'garlic': 14, 'soy sauce': 10, 'green onion': 3, 'onion': 8, 'cabbage': 1, 'olive oil': 10, 'chicken stock': 2, 'lime': 2, 'milk': 4, 'banana': 1, 'egg': 3, 'shortening': 1, 'coconut milk': 3, 'kidney beans': 1, 'margarine': 1, 'curry powder': 2, 'potato': 1, 'potatoes': 2, 'celery': 1, 'bay leaf': 2, 'cream cheese': 2, 'cornmeal': 1, 'canola oil': 1, 'lemon juice': 1, 'ghee': 1, 'red wine vinegar': 2, 'red onion': 1, 'orange juice': 3, 'ketchup': 1, 'yellow bell pepper': 2, 'green bell pepper': 3, 'red bell pepper': 2, 'sesame oil': 1, 'tomato paste': 1, 'bay leaves': 1, 'corn': 1, 'allspice': 1, 'mayonnaise': 1, 'paprika': 1, 'apple cider': 1, 'jalapeno pepper': 1, 'cranberries': 1}\n",
      "Getting ingredients for Polish...\n",
      "{'rye bread': 1, 'cooking spray': 1, 'sauerkraut': 7, 'bacon': 5, 'salt': 20, 'all-purpose flour': 20, 'egg': 9, 'sour cream': 13, 'cottage cheese': 1, 'onion': 16, 'butter': 21, 'caraway seed': 2, 'cayenne pepper': 3, 'worcestershire sauce': 3, 'bay leaf': 2, 'garlic': 7, 'beef stock': 1, 'cabbage': 9, 'water': 15, 'dill': 1, 'lemon juice': 1, 'beer': 2, 'celery': 5, 'ketchup': 3, 'tomato juice': 1, 'white rice': 1, 'green cabbage': 2, 'eggs': 11, 'mushrooms': 2, 'vegetable oil': 6, 'swiss cheese': 1, 'brown sugar': 2, 'rum': 1, 'potatoes': 4, 'milk': 6, 'black pepper': 2, 'rice': 1, 'margarine': 2, 'bay leaves': 2, 'olive oil': 3, 'wild duck': 1, 'white bread': 1, 'green pepper': 1, 'baking powder': 1, 'honey': 1, 'kale': 1, 'leeks': 1, 'white onion': 1, 'tomato puree': 1, 'tomato': 1, 'strawberry jam': 1, 'cream cheese': 1, 'canola oil': 1, 'sugar': 1}\n",
      "Getting ingredients for Indian...\n",
      "{'vegetable oil': 20, 'garlic': 32, 'tomatoes': 4, 'salt': 33, 'potatoes': 7, 'garam masala': 22, 'lemon': 3, 'chicken': 1, 'cayenne pepper': 20, 'onion': 19, 'baking powder': 1, 'tomato paste': 8, 'curry powder': 14, 'celery': 2, 'bay leaf': 5, 'butter': 11, 'coconut milk': 7, 'tomato puree': 4, 'lemon juice': 4, 'water': 15, 'cooking oil': 2, 'all-purpose flour': 2, 'basmati rice': 3, 'milk': 5, 'egg': 1, 'olive oil': 7, 'paprika': 8, 'margarine': 1, 'peanut oil': 3, 'yogurt': 2, 'white rice': 1, 'carrot': 1, 'apple': 1, 'lime': 2, 'ghee': 2, 'jalapeno pepper': 2, 'shallot': 1, 'white onion': 1, 'canola oil': 2, 'tomato': 3, 'spinach': 1, 'paneer': 1, 'sweet potato': 1, 'honey': 2, 'chicken stock': 1, 'cardamom': 1, 'green bell pepper': 1, 'red bell pepper': 1, 'ketchup': 1, 'phyllo dough': 1, 'sour cream': 1, 'ginger': 1, 'dijon mustard': 1, 'red onion': 1, 'coriander': 1, 'cooking spray': 1, 'cumin': 1, 'peas': 1, 'coriander seed': 1}\n",
      "Getting ingredients for Jewish...\n",
      "{'salt': 32, 'sour cream': 6, 'cream cheese': 5, 'all-purpose flour': 20, 'cooking spray': 2, 'eggs': 37, 'egg': 8, 'baking powder': 7, 'honey': 8, 'yogurt': 1, 'canola oil': 2, 'orange juice': 5, 'vegetable oil': 23, 'olive oil': 8, 'paprika': 3, 'garlic': 8, 'water': 11, 'parsnip': 1, 'celery': 2, 'butter': 11, 'lemon': 2, 'milk': 6, 'ricotta cheese': 1, 'sauerkraut': 1, 'black pepper': 1, 'onion': 5, 'sweet potato': 1, 'margarine': 2, 'ketchup': 1, 'brown sugar': 2, 'beef brisket': 2, 'sugar': 1, 'red bell pepper': 2, 'cottage cheese': 2, 'tomatoes': 1, 'cayenne pepper': 1, 'savoy cabbage': 1, 'bay leaf': 1, 'phyllo dough': 1, 'potatoes': 3, 'lemon juice': 1, 'mayonnaise': 1}\n",
      "Getting ingredients for Chilean...\n",
      "{'salt': 6, 'butter': 5, 'all-purpose flour': 5, 'eggs': 4, 'shortening': 1, 'water': 5, 'onion': 5, 'cumin': 1, 'baking powder': 2, 'milk': 2, 'tomatoes': 1, 'tomato paste': 1, 'vegetable oil': 2, 'potatoes': 1, 'garlic': 4, 'lard': 1, 'egg': 2, 'lemon': 2, 'sweet corn': 1, 'paprika': 1, 'chicken stock': 1, 'olive oil': 2, 'corn': 1, 'carrot': 1, 'leek': 1, 'celery': 1, 'red bell pepper': 1, 'lime': 2, 'red wine vinegar': 2, 'tomato': 1, 'canola oil': 1, 'jalapeno pepper': 1}\n",
      "Getting ingredients for Belgian...\n",
      "{'baking powder': 1, 'salt': 3, 'all-purpose flour': 2, 'egg': 1, 'vegetable oil': 3, 'milk': 1, 'nutmeg': 1, 'leeks': 1, 'onion': 1, 'water': 2, 'celery': 2, 'lemon juice': 1, 'bay leaves': 1, 'potatoes': 1, 'garlic': 1}\n",
      "Getting ingredients for Turkish...\n",
      "{'paprika': 7, 'garlic': 12, 'olive oil': 14, 'ketchup': 1, 'salt': 15, 'all-purpose flour': 9, 'eggs': 3, 'vegetable oil': 5, 'water': 16, 'chicken stock': 1, 'rice': 1, 'tomato paste': 6, 'onion': 9, 'cream cheese': 1, 'phyllo dough': 1, 'honey': 1, 'sugar': 2, 'butter': 8, 'mushrooms': 1, 'lemon': 3, 'cayenne pepper': 3, 'lemon juice': 5, 'cumin': 2, 'white onion': 1, 'green bell pepper': 2, 'capers': 1, 'sour cream': 2, 'curry powder': 1, 'egg': 3, 'allspice': 1, 'red onion': 1, 'iceberg lettuce': 1, 'cooking spray': 2, 'red bell pepper': 2, 'lentils': 1, 'baking powder': 2, 'canola oil': 1, 'zucchini': 1, 'yeast': 1, 'pumpkin': 1, 'red wine vinegar': 1, 'salted butter': 1, 'milk': 1}\n",
      "Getting ingredients for Japanese...\n",
      "{'flour': 1, 'salt': 17, 'canola oil': 3, 'water': 23, 'worcestershire sauce': 5, 'garlic': 7, 'soy sauce': 24, 'sugar': 2, 'vegetable oil': 6, 'egg': 4, 'all-purpose flour': 7, 'sesame oil': 7, 'lemon juice': 1, 'ketchup': 4, 'peanut oil': 1, 'honey': 4, 'olive oil': 5, 'eggs': 9, 'paprika': 2, 'brown sugar': 4, 'sherry': 2, 'cooking spray': 2, 'sake': 3, 'lemon': 2, 'onion': 3, 'mayonnaise': 4, 'avocado': 1, 'cucumber': 4, 'cabbage': 3, 'black pepper': 1, 'cream cheese': 1, 'tomato paste': 1, 'cayenne pepper': 1, 'egg yolk': 1, 'baking powder': 3, 'coconut milk': 1, 'sweet potato': 1, 'tofu': 1, 'butter': 1, 'green onion': 1, 'dijon mustard': 1, 'celery': 1, 'carrot': 1, 'zucchini': 1, 'green bell pepper': 1, 'milk': 2, 'leeks': 1, 'spring onions': 1, 'pepper': 1}\n"
     ]
    },
    {
     "name": "stdout",
     "output_type": "stream",
     "text": [
      "Getting ingredients for Argentinian...\n",
      "{'red wine vinegar': 9, 'garlic': 8, 'onion': 5, 'salt': 9, 'baking powder': 2, 'dulce de leche': 2, 'egg': 6, 'all-purpose flour': 4, 'olive oil': 7, 'cayenne pepper': 2, 'green bell pepper': 1, 'butter': 5, 'shortening': 1, 'margarine': 1, 'salted butter': 1, 'vegetable oil': 2, 'potatoes': 1, 'water': 6, 'paprika': 4, 'milk': 3, 'cooking spray': 1, 'red wine': 1, 'mayonnaise': 1, 'eggs': 1, 'sweet corn': 1, 'shallot': 2, 'carrot': 1, 'tomatoes': 1, 'tomato': 1, 'white wine vinegar': 1, 'red bell pepper': 1, 'sunflower oil': 1}\n",
      "Getting ingredients for Italian...\n",
      "{'salt': 20, 'all-purpose flour': 4, 'olive oil': 27, 'egg': 5, 'ricotta cheese': 6, 'butter': 10, 'tomato paste': 8, 'mozzarella cheese': 5, 'water': 12, 'garlic': 29, 'shallots': 3, 'baking powder': 1, 'flour': 1, 'eggs': 14, 'pasta': 2, 'red wine vinegar': 3, 'oregano': 1, 'red onion': 4, 'lettuce': 1, 'provolone cheese': 2, 'mozzarella': 1, 'prosciutto': 2, 'zucchini': 1, 'feta cheese': 1, 'tomatoes': 2, 'lemon': 2, 'yellow bell pepper': 2, 'parsley': 1, 'breadcrumbs': 1, 'green bell pepper': 4, 'black pepper': 1, 'shallot': 2, 'cooking spray': 2, 'baguette': 1, 'balsamic vinegar': 2, 'tomato puree': 1, 'leek': 1, 'red bell pepper': 3, 'lemon juice': 1, 'pesto': 2, 'ricotta': 1, 'spinach': 1, 'bay leaf': 3, 'sugar': 1, 'onion': 4, 'parmesan cheese': 1, 'polenta': 1, 'milk': 2, 'shrimp': 1, 'bacon': 1, 'potatoes': 2, 'rum': 1, 'cream cheese': 1, 'brown sugar': 2, 'paprika': 1, 'cucumber': 1, 'green zucchini': 1, 'sunflower oil': 1, 'spaghetti': 1, 'cottage cheese': 2, 'eggplant': 1, 'white wine': 2, 'chicken stock': 1, 'red wine': 1}\n",
      "Getting ingredients for Peruvian...\n",
      "{'brown sugar': 2, 'apple': 1, 'water': 10, 'orange bell pepper': 1, 'garlic': 16, 'olive oil': 8, 'soy sauce': 8, 'white bread': 1, 'vegetable oil': 14, 'evaporated milk': 4, 'onion': 8, 'kalamata olives': 1, 'corn': 1, 'red bell pepper': 4, 'salt': 5, 'mayonnaise': 5, 'cumin': 2, 'paprika': 5, 'cayenne pepper': 1, 'lime': 4, 'dulce de leche': 1, 'avocado': 1, 'red onion': 4, 'tuna': 1, 'lemon juice': 2, 'sour cream': 1, 'honey': 1, 'jalapeno pepper': 2, 'all-purpose flour': 4, 'orange juice': 2, 'romaine lettuce': 1, 'tomato': 1, 'white wine vinegar': 3, 'bell pepper': 1, 'carrot': 2, 'white wine': 1, 'worcestershire sauce': 1, 'baking powder': 1, 'butter': 2, 'eggs': 1, 'tomatoes': 1, 'ketchup': 1, 'peanut butter': 1, 'egg': 1, 'potato': 1, 'tomato paste': 1, 'basmati rice': 1, 'green bell pepper': 2, 'vinegar': 1, 'canola oil': 1, 'chicken': 1, 'butternut squash': 1, 'chicken stock': 1, 'peas': 1, 'milk': 1, 'white rice': 1, 'beer': 1, 'grapeseed oil': 1, 'thyme': 1}\n",
      "Getting ingredients for Swiss...\n",
      "{'swiss cheese': 1, 'potatoes': 1, 'butter': 3, 'vegetable oil': 1, 'salt': 5, 'all-purpose flour': 4, 'eggs': 4, 'garlic': 1, 'baking powder': 2, 'lemon': 1, 'marzipan': 1, 'anise oil': 1, 'shortening': 1, 'lemon juice': 1}\n",
      "Getting ingredients for South...\n",
      "{'red wine vinegar': 1, 'bay leaves': 3, 'curry powder': 4, 'water': 7, 'garlic': 2, 'salt': 5, 'brown sugar': 2, 'vegetable oil': 3, 'potatoes': 2, 'onion': 6, 'worcestershire sauce': 1, 'butter': 5, 'eggs': 4, 'milk': 6, 'baking powder': 2, 'sugar': 1, 'flour': 1, 'vanilla': 1, 'all-purpose flour': 1, 'egg': 2, 'oil': 2, 'tomatoes': 2, 'chicken stock': 2, 'elephant garlic': 1, 'cream': 1, 'jalapeno pepper': 2, 'lemon juice': 1, 'orange': 1, 'sour cream': 1, 'bread': 1, 'chutney': 1, 'peanut butter': 1, 'olive oil': 2, 'red onion': 1, 'lime': 2, 'cucumber': 1, 'carrot': 1, 'pumpkin': 1, 'coconut milk': 1, 'celery': 1, 'honey': 1, 'mustard oil': 1}\n",
      "Getting ingredients for Danish...\n",
      "{'butter': 14, 'all-purpose flour': 18, 'eggs': 12, 'water': 7, 'milk': 8, 'egg yolk': 1, 'salt': 22, 'shortening': 4, 'cod': 1, 'paprika': 1, 'sugar': 3, 'sour cream': 3, 'buttermilk': 2, 'cranberry juice': 1, 'baking powder': 4, 'egg': 4, 'mushrooms': 1, 'potatoes': 1, 'garlic': 1, 'cocoa powder': 1, 'pepper': 1, 'dill': 1, 'vegetable oil': 1, 'white wine vinegar': 1, 'caraway seed': 1, 'cardamom': 1, 'brown sugar': 2, 'cream cheese': 1, 'cooking spray': 1, 'honey': 1, 'onion': 2, 'cabbage': 1, 'lemon juice': 1}\n",
      "Getting ingredients for Indonesian...\n",
      "{'lemon juice': 4, 'vegetable oil': 10, 'peanut oil': 2, 'water': 9, 'garlic': 17, 'soy sauce': 3, 'tomatoes': 2, 'ketchup': 2, 'red onion': 1, 'shallots': 5, 'galangal': 1, 'brown sugar': 3, 'ginger': 2, 'lemongrass': 2, 'leek': 1, 'eggs': 2, 'onion': 4, 'cooking spray': 1, 'egg': 1, 'milk': 1, 'butter': 2, 'all-purpose flour': 2, 'salt': 4, 'peanut butter': 1, 'olive oil': 2, 'carrot': 2, 'bok choy': 1, 'bay leaf': 1, 'canola oil': 2, 'celery': 1, 'baking powder': 1, 'honey': 2, 'lemon': 2, 'zucchini': 1, 'chicken': 1, 'bay leaves': 1, 'tomato': 1, 'okra': 1, 'coconut milk': 1, 'eggplant': 1, 'red bell pepper': 1}\n",
      "Getting ingredients for Cajun...\n",
      "{'worcestershire sauce': 9, 'salt': 27, 'garlic': 21, 'peanut oil': 1, 'onion': 18, 'celery': 9, 'green bell pepper': 22, 'cayenne pepper': 19, 'olive oil': 6, 'bay leaves': 9, 'water': 11, 'paprika': 10, 'white pepper': 3, 'black pepper': 3, 'white onion': 2, 'butter': 19, 'red bell pepper': 5, 'green onion': 2, 'mushrooms': 1, 'all-purpose flour': 11, 'vegetable oil': 8, 'celery stalks': 1, 'bay leaf': 5, 'chicken stock': 4, 'shrimp': 5, 'pepper': 1, 'shortening': 1, 'mayonnaise': 1, 'capers': 1, 'apple cider vinegar': 1, 'potato': 1, 'beer': 2, 'egg': 2, 'canola oil': 1, 'jalapeno pepper': 1, 'duck': 1, 'turkey': 1, 'baking powder': 1, 'tomato paste': 4, 'tomato': 1, 'madeira wine': 1, 'cream': 1, 'spaghetti': 1, 'penne pasta': 2, 'flour': 1, 'parmesan cheese': 1, 'bacon': 2, 'eggs': 2, 'cabbage': 1, 'ketchup': 1, 'evaporated milk': 1, 'milk': 1}\n"
     ]
    }
   ],
   "source": [
    "# Retrieve all ingredients data\n",
    "def all_cuisine_ingred():\n",
    "    # Initiate cuisine ingredients data\n",
    "    all_cuisine_ingred_data = dict()\n",
    "    \n",
    "    for cuisine_url in cuisine_urls:\n",
    "        # Open cuisine URL\n",
    "        cuisine_fhand = urllib.request.urlopen(cuisine_url)\n",
    "        cuisine_html = cuisine_fhand.read()\n",
    "        cuisine_soup = bs(cuisine_html, \"html.parser\")\n",
    "        \n",
    "        # Get cuisine name\n",
    "        cuisine_name = get_cuisine_name(cuisine_soup)\n",
    "        \n",
    "        print(f\"Getting ingredients for {cuisine_name}...\")\n",
    "        \n",
    "        # Get dish URLs\n",
    "        dish_urls = get_dish_url(cuisine_soup)\n",
    "        \n",
    "        # Initialize cuisine_ingred\n",
    "        cuisine_ingred = dict()\n",
    "        \n",
    "        for dish_url in dish_urls:\n",
    "            # Open dish URL\n",
    "            dish_fhand = urllib.request.urlopen(dish_url)\n",
    "            dish_html = dish_fhand.read()\n",
    "            dish_soup = bs(dish_html, \"html.parser\")\n",
    "            \n",
    "            # Get list of ingredients for a dish\n",
    "            dish_ingredients = get_ingred(dish_soup)\n",
    "            \n",
    "            for ingredient in dish_ingredients:\n",
    "                if ingredient in cuisine_ingred:\n",
    "                    cuisine_ingred[ingredient] += 1\n",
    "                else:\n",
    "                    cuisine_ingred[ingredient] = 1\n",
    "            \n",
    "        print(cuisine_ingred)\n",
    "        \n",
    "        # Update all cuisine ingredients\n",
    "        all_cuisine_ingred_data[cuisine_name] = cuisine_ingred\n",
    "    \n",
    "    return all_cuisine_ingred_data\n",
    "\n",
    "all_cuisine_ingred_data = all_cuisine_ingred()\n"
   ]
  },
  {
   "cell_type": "code",
   "execution_count": 108,
   "id": "206c7bb4",
   "metadata": {},
   "outputs": [
    {
     "name": "stdout",
     "output_type": "stream",
     "text": [
      "{'garlic': 200, 'water': 164, 'soy sauce': 144, 'vegetable oil': 141, 'salt': 127, 'onion': 94, 'sesame oil': 67, 'brown sugar': 50, 'coconut milk': 49, 'olive oil': 43}\n",
      "{'salt': 233, 'all-purpose flour': 203, 'butter': 175, 'eggs': 137, 'garlic': 125, 'olive oil': 119, 'water': 118, 'onion': 91, 'milk': 85, 'egg': 64}\n"
     ]
    }
   ],
   "source": [
    "# Top 10 most popular ingredients in all cuisines\n",
    "\n",
    "def get_top10_ingred(ingred_dict):\n",
    "    sorted_ingredients = sorted(ingred_dict.items(), key=lambda x: x[1], reverse=True)\n",
    "    top10_ingredients = dict(sorted_ingredients[:10])\n",
    "    \n",
    "    return top10_ingredients\n",
    "\n",
    "def top10_all(regions):\n",
    "    total_ingredient_counts = defaultdict(int)\n",
    "    ingred_data = {}\n",
    "    \n",
    "    if regions == \"all\":\n",
    "        ingred_data = all_cuisine_ingred_data\n",
    "    else:\n",
    "        for region in regions:\n",
    "            ingred_data[region] = all_cuisine_ingred_data[region]\n",
    "    \n",
    "    for cuisine, ingredients in ingred_data.items():\n",
    "        for ingredient, count in ingredients.items():\n",
    "            total_ingredient_counts[ingredient] += count\n",
    "\n",
    "    total_ingredient_counts = dict(total_ingredient_counts)\n",
    "    top10_ingreds = get_top10_ingred(total_ingredient_counts)\n",
    "    \n",
    "    return top10_ingreds\n",
    "\n",
    "\n",
    "top10_ingreds = top10_all(\"all\")\n",
    "\n",
    "asian_cuisines = [\"Chinese\", \"Korean\", \"Japanese\",\n",
    "                  \"Vietnamese\", \"Indonesian\", \"Thai\", \"Malaysian\", \"Filipino\",\n",
    "                  \"Indian\", \"Bangladeshi\"]\n",
    "\n",
    "western_cuisines = [\"French\", \"Dutch\", \"Swedish\", \"Greek\",\n",
    "                    \"Italian\", \"Danish\", \"Norwegian\", \"Spanish\",\n",
    "                    \"Russian\", \"Portuguese\", \"Austrian\", \"German\",\n",
    "                    \"Swiss\", \"Finnish\", \"Belgian\"]\n",
    "\n",
    "\n",
    "top10_asian = top10_all(asian_cuisines)\n",
    "top10_western = top10_all(western_cuisines)\n",
    "print(top10_asian)\n",
    "print(top10_western)"
   ]
  },
  {
   "cell_type": "code",
   "execution_count": 102,
   "id": "a3636e64",
   "metadata": {},
   "outputs": [
    {
     "name": "stdout",
     "output_type": "stream",
     "text": [
      "Analyzing Southern...\n",
      "{'salt': 30, 'all-purpose flour': 24, 'butter': 19, 'water': 13, 'milk': 11, 'garlic': 11, 'onion': 10, 'eggs': 9, 'cayenne pepper': 8, 'buttermilk': 7}\n",
      "Analyzing Puerto...\n",
      "{'salt': 25, 'garlic': 19, 'olive oil': 18, 'water': 17, 'onion': 8, 'coconut milk': 7, 'evaporated milk': 7, 'vegetable oil': 7, 'green bell pepper': 7, 'butter': 6}\n",
      "Analyzing Colombian...\n",
      "{'salt': 5, 'onion': 2, 'garlic': 2, 'eggs': 2, 'plum tomato': 1, 'lime': 1, 'olive oil': 1, 'apple cider vinegar': 1, 'jalapeno pepper': 1, 'water': 1}\n",
      "Analyzing Dutch...\n",
      "{'all-purpose flour': 15, 'butter': 13, 'salt': 8, 'egg': 7, 'baking powder': 6, 'water': 6, 'eggs': 6, 'milk': 4, 'shortening': 2, 'paprika': 2}\n",
      "Analyzing Tex-Mex...\n",
      "{'salt': 11, 'sour cream': 11, 'olive oil': 11, 'garlic': 11, 'water': 10, 'onion': 10, 'salsa': 9, 'cooking spray': 7, 'red bell pepper': 7, 'jalapeno pepper': 7}\n",
      "Analyzing Vietnamese...\n",
      "{'garlic': 29, 'water': 21, 'salt': 13, 'vegetable oil': 13, 'lime': 9, 'soy sauce': 9, 'onion': 9, 'carrot': 7, 'olive oil': 6, 'sesame oil': 5}\n",
      "Analyzing Thai...\n",
      "{'garlic': 24, 'coconut milk': 22, 'water': 18, 'vegetable oil': 17, 'soy sauce': 16, 'red bell pepper': 13, 'onion': 12, 'salt': 11, 'brown sugar': 11, 'curry powder': 7}\n",
      "Analyzing Canadian...\n",
      "{'salt': 25, 'butter': 20, 'all-purpose flour': 20, 'water': 15, 'milk': 10, 'egg': 9, 'eggs': 9, 'onion': 8, 'brown sugar': 8, 'garlic': 7}\n",
      "Analyzing Israeli...\n",
      "{'salt': 9, 'olive oil': 8, 'water': 8, 'garlic': 6, 'eggs': 6, 'onion': 5, 'red bell pepper': 4, 'all-purpose flour': 4, 'baking powder': 3, 'vegetable oil': 3}\n",
      "Analyzing Cuban...\n",
      "{'garlic': 29, 'olive oil': 24, 'salt': 21, 'onion': 20, 'water': 14, 'green bell pepper': 13, 'bay leaves': 11, 'vegetable oil': 8, 'lime': 8, 'tomato paste': 6}\n",
      "Analyzing Filipino...\n",
      "{'garlic': 26, 'onion': 25, 'water': 25, 'vegetable oil': 20, 'soy sauce': 16, 'salt': 15, 'olive oil': 10, 'coconut milk': 6, 'bay leaves': 6, 'brown sugar': 6}\n",
      "Analyzing Swedish...\n",
      "{'all-purpose flour': 27, 'salt': 26, 'butter': 25, 'milk': 18, 'eggs': 14, 'water': 12, 'egg': 9, 'worcestershire sauce': 5, 'sugar': 5, 'sour cream': 4}\n",
      "Analyzing Greek...\n",
      "{'olive oil': 32, 'garlic': 21, 'salt': 16, 'water': 13, 'lemon juice': 11, 'lemon': 11, 'butter': 10, 'all-purpose flour': 10, 'onion': 10, 'eggs': 8}\n",
      "Analyzing Mexican...\n",
      "{'salt': 20, 'onion': 19, 'garlic': 18, 'olive oil': 14, 'vegetable oil': 12, 'sour cream': 11, 'water': 9, 'lime': 8, 'avocado': 6, 'red bell pepper': 6}\n",
      "Analyzing Persian...\n",
      "{'salt': 19, 'water': 13, 'garlic': 12, 'vegetable oil': 11, 'olive oil': 11, 'onion': 10, 'butter': 6, 'basmati rice': 5, 'saffron': 5, 'all-purpose flour': 5}\n",
      "Analyzing Chinese...\n",
      "{'soy sauce': 43, 'vegetable oil': 27, 'water': 23, 'garlic': 22, 'sesame oil': 20, 'salt': 16, 'egg': 11, 'eggs': 10, 'all-purpose flour': 8, 'brown sugar': 8}\n",
      "Analyzing Russian...\n",
      "{'salt': 33, 'all-purpose flour': 27, 'sour cream': 21, 'butter': 20, 'onion': 17, 'water': 15, 'vegetable oil': 13, 'potatoes': 12, 'eggs': 12, 'egg': 11}\n",
      "Analyzing French...\n",
      "{'butter': 27, 'salt': 22, 'all-purpose flour': 17, 'olive oil': 14, 'garlic': 11, 'eggs': 11, 'water': 9, 'milk': 7, 'lemon juice': 5, 'dijon mustard': 5}\n",
      "Analyzing Korean...\n",
      "{'soy sauce': 30, 'sesame oil': 28, 'garlic': 25, 'vegetable oil': 13, 'water': 13, 'brown sugar': 10, 'onion': 9, 'salt': 9, 'green onion': 7, 'black pepper': 5}\n",
      "Analyzing Australian...\n",
      "{'salt': 24, 'all-purpose flour': 24, 'butter': 18, 'eggs': 18, 'baking powder': 12, 'milk': 9, 'egg': 8, 'water': 7, 'golden syrup': 6, 'coconut milk': 6}\n",
      "Analyzing Brazilian...\n",
      "{'eggs': 17, 'water': 17, 'garlic': 15, 'olive oil': 15, 'salt': 15, 'milk': 14, 'onion': 13, 'all-purpose flour': 12, 'baking powder': 10, 'butter': 9}\n",
      "Analyzing Scandinavian...\n",
      "{'all-purpose flour': 35, 'salt': 35, 'butter': 26, 'milk': 21, 'egg': 15, 'eggs': 14, 'water': 12, 'baking powder': 8, 'potatoes': 4, 'worcestershire sauce': 4}\n",
      "Analyzing Lebanese...\n",
      "{'salt': 22, 'olive oil': 21, 'garlic': 17, 'water': 14, 'lemon juice': 12, 'onion': 11, 'all-purpose flour': 8, 'vegetable oil': 6, 'lemon': 5, 'baking powder': 5}\n",
      "Analyzing Spanish...\n",
      "{'garlic': 27, 'olive oil': 21, 'onion': 18, 'salt': 11, 'green bell pepper': 9, 'water': 8, 'red bell pepper': 8, 'lemon': 7, 'paprika': 7, 'eggs': 6}\n",
      "Analyzing Finnish...\n",
      "{'salt': 13, 'all-purpose flour': 13, 'butter': 10, 'milk': 10, 'eggs': 8, 'baking powder': 4, 'water': 3, 'margarine': 2, 'potatoes': 2, 'egg': 2}\n",
      "Analyzing Pakistani...\n",
      "{'salt': 14, 'water': 14, 'vegetable oil': 11, 'onion': 8, 'garlic': 6, 'garam masala': 6, 'tomatoes': 5, 'cayenne pepper': 5, 'potatoes': 4, 'olive oil': 3}\n",
      "Analyzing Soul...\n",
      "{'salt': 29, 'water': 23, 'all-purpose flour': 16, 'onion': 14, 'garlic': 13, 'cayenne pepper': 11, 'butter': 7, 'milk': 7, 'olive oil': 6, 'buttermilk': 6}\n",
      "Analyzing Amish...\n",
      "{'salt': 38, 'all-purpose flour': 30, 'eggs': 25, 'milk': 22, 'baking powder': 17, 'vegetable oil': 14, 'butter': 11, 'onion': 10, 'brown sugar': 9, 'water': 7}\n",
      "Analyzing Austrian...\n",
      "{'all-purpose flour': 17, 'eggs': 11, 'salt': 10, 'butter': 8, 'baking powder': 6, 'egg': 4, 'milk': 3, 'water': 3, 'rum': 2, 'vegetable oil': 2}\n",
      "Analyzing German...\n",
      "{'all-purpose flour': 21, 'butter': 16, 'salt': 15, 'eggs': 15, 'onion': 11, 'water': 10, 'baking powder': 9, 'milk': 8, 'egg': 7, 'bacon': 6}\n",
      "Analyzing Malaysian...\n",
      "{'garlic': 16, 'vegetable oil': 10, 'water': 9, 'curry powder': 9, 'coconut milk': 8, 'salt': 5, 'onion': 4, 'brown sugar': 4, 'olive oil': 4, 'shallots': 3}\n",
      "Analyzing Norwegian...\n",
      "{'all-purpose flour': 16, 'salt': 14, 'butter': 7, 'baking powder': 7, 'eggs': 6, 'bacon': 3, 'egg': 3, 'water': 3, 'cabbage': 3, 'sour cream': 3}\n",
      "Analyzing Portuguese...\n",
      "{'garlic': 21, 'onion': 18, 'olive oil': 18, 'water': 15, 'salt': 15, 'potatoes': 13, 'butter': 10, 'all-purpose flour': 10, 'eggs': 10, 'milk': 9}\n",
      "Analyzing Bangladeshi...\n",
      "{'water': 8, 'cayenne pepper': 5, 'vegetable oil': 5, 'onion': 4, 'salt': 4, 'tomatoes': 3, 'garlic': 2, 'garam masala': 2, 'mustard oil': 2, 'olive oil': 1}\n",
      "Analyzing Jamaican...\n",
      "{'salt': 17, 'garlic': 14, 'brown sugar': 13, 'vegetable oil': 12, 'water': 11, 'soy sauce': 10, 'olive oil': 10, 'all-purpose flour': 8, 'onion': 8, 'baking powder': 5}\n",
      "Analyzing Polish...\n",
      "{'butter': 21, 'salt': 20, 'all-purpose flour': 20, 'onion': 16, 'water': 15, 'sour cream': 13, 'eggs': 11, 'egg': 9, 'cabbage': 9, 'sauerkraut': 7}\n",
      "Analyzing Indian...\n",
      "{'salt': 33, 'garlic': 32, 'garam masala': 22, 'vegetable oil': 20, 'cayenne pepper': 20, 'onion': 19, 'water': 15, 'curry powder': 14, 'butter': 11, 'tomato paste': 8}\n",
      "Analyzing Jewish...\n",
      "{'eggs': 37, 'salt': 32, 'vegetable oil': 23, 'all-purpose flour': 20, 'water': 11, 'butter': 11, 'egg': 8, 'honey': 8, 'olive oil': 8, 'garlic': 8}\n",
      "Analyzing Chilean...\n",
      "{'salt': 6, 'butter': 5, 'all-purpose flour': 5, 'water': 5, 'onion': 5, 'eggs': 4, 'garlic': 4, 'baking powder': 2, 'milk': 2, 'vegetable oil': 2}\n",
      "Analyzing Belgian...\n",
      "{'salt': 3, 'vegetable oil': 3, 'all-purpose flour': 2, 'water': 2, 'celery': 2, 'baking powder': 1, 'egg': 1, 'milk': 1, 'nutmeg': 1, 'leeks': 1}\n",
      "Analyzing Turkish...\n",
      "{'water': 16, 'salt': 15, 'olive oil': 14, 'garlic': 12, 'all-purpose flour': 9, 'onion': 9, 'butter': 8, 'paprika': 7, 'tomato paste': 6, 'vegetable oil': 5}\n",
      "Analyzing Japanese...\n",
      "{'soy sauce': 24, 'water': 23, 'salt': 17, 'eggs': 9, 'garlic': 7, 'all-purpose flour': 7, 'sesame oil': 7, 'vegetable oil': 6, 'worcestershire sauce': 5, 'olive oil': 5}\n",
      "Analyzing Argentinian...\n",
      "{'red wine vinegar': 9, 'salt': 9, 'garlic': 8, 'olive oil': 7, 'egg': 6, 'water': 6, 'onion': 5, 'butter': 5, 'all-purpose flour': 4, 'paprika': 4}\n",
      "Analyzing Italian...\n",
      "{'garlic': 29, 'olive oil': 27, 'salt': 20, 'eggs': 14, 'water': 12, 'butter': 10, 'tomato paste': 8, 'ricotta cheese': 6, 'egg': 5, 'mozzarella cheese': 5}\n",
      "Analyzing Peruvian...\n",
      "{'garlic': 16, 'vegetable oil': 14, 'water': 10, 'olive oil': 8, 'soy sauce': 8, 'onion': 8, 'salt': 5, 'mayonnaise': 5, 'paprika': 5, 'evaporated milk': 4}\n",
      "Analyzing Swiss...\n",
      "{'salt': 5, 'all-purpose flour': 4, 'eggs': 4, 'butter': 3, 'baking powder': 2, 'swiss cheese': 1, 'potatoes': 1, 'vegetable oil': 1, 'garlic': 1, 'lemon': 1}\n",
      "Analyzing South...\n",
      "{'water': 7, 'onion': 6, 'milk': 6, 'salt': 5, 'butter': 5, 'curry powder': 4, 'eggs': 4, 'bay leaves': 3, 'vegetable oil': 3, 'garlic': 2}\n",
      "Analyzing Danish...\n",
      "{'salt': 22, 'all-purpose flour': 18, 'butter': 14, 'eggs': 12, 'milk': 8, 'water': 7, 'shortening': 4, 'baking powder': 4, 'egg': 4, 'sugar': 3}\n",
      "Analyzing Indonesian...\n",
      "{'garlic': 17, 'vegetable oil': 10, 'water': 9, 'shallots': 5, 'lemon juice': 4, 'onion': 4, 'salt': 4, 'soy sauce': 3, 'brown sugar': 3, 'peanut oil': 2}\n",
      "Analyzing Cajun...\n",
      "{'salt': 27, 'green bell pepper': 22, 'garlic': 21, 'cayenne pepper': 19, 'butter': 19, 'onion': 18, 'water': 11, 'all-purpose flour': 11, 'paprika': 10, 'worcestershire sauce': 9}\n"
     ]
    }
   ],
   "source": [
    "# Sort each cuisine by ingredient frequency\n",
    "def sorted_cuisine_ingred(all_cuisine_ingred_data):\n",
    "    sorted_cuisine_ingred = {}\n",
    "    \n",
    "    for cuisine_name, ingred_dict in all_cuisine_ingred_data.items():\n",
    "        print(f\"Analyzing {cuisine_name}...\")\n",
    "        \n",
    "        top10_ingreds = get_top10_ingred(ingred_dict)\n",
    "        sorted_cuisine_ingred[cuisine_name] = top10_ingreds\n",
    "        \n",
    "        print(f\"{top10_ingreds}\")\n",
    "    \n",
    "    return sorted_cuisine_ingred\n",
    "\n",
    "sorted_cuisine_ingred = sorted_cuisine_ingred(all_cuisine_ingred_data)"
   ]
  },
  {
   "cell_type": "code",
   "execution_count": 103,
   "id": "51f07f79",
   "metadata": {},
   "outputs": [
    {
     "data": {
      "text/plain": [
       "26"
      ]
     },
     "execution_count": 103,
     "metadata": {},
     "output_type": "execute_result"
    },
    {
     "data": {
      "text/plain": [
       "18"
      ]
     },
     "execution_count": 103,
     "metadata": {},
     "output_type": "execute_result"
    },
    {
     "data": {
      "text/plain": [
       "31"
      ]
     },
     "execution_count": 103,
     "metadata": {},
     "output_type": "execute_result"
    },
    {
     "data": {
      "text/plain": [
       "20"
      ]
     },
     "execution_count": 103,
     "metadata": {},
     "output_type": "execute_result"
    },
    {
     "data": {
      "text/plain": [
       "19"
      ]
     },
     "execution_count": 103,
     "metadata": {},
     "output_type": "execute_result"
    },
    {
     "data": {
      "text/plain": [
       "18"
      ]
     },
     "execution_count": 103,
     "metadata": {},
     "output_type": "execute_result"
    },
    {
     "data": {
      "text/plain": [
       "20"
      ]
     },
     "execution_count": 103,
     "metadata": {},
     "output_type": "execute_result"
    },
    {
     "data": {
      "text/plain": [
       "19"
      ]
     },
     "execution_count": 103,
     "metadata": {},
     "output_type": "execute_result"
    },
    {
     "data": {
      "text/plain": [
       "17"
      ]
     },
     "execution_count": 103,
     "metadata": {},
     "output_type": "execute_result"
    },
    {
     "data": {
      "text/plain": [
       "27"
      ]
     },
     "execution_count": 103,
     "metadata": {},
     "output_type": "execute_result"
    },
    {
     "data": {
      "text/plain": [
       "23"
      ]
     },
     "execution_count": 103,
     "metadata": {},
     "output_type": "execute_result"
    },
    {
     "data": {
      "text/plain": [
       "16"
      ]
     },
     "execution_count": 103,
     "metadata": {},
     "output_type": "execute_result"
    },
    {
     "data": {
      "text/plain": [
       "18"
      ]
     },
     "execution_count": 103,
     "metadata": {},
     "output_type": "execute_result"
    },
    {
     "data": {
      "text/plain": [
       "21"
      ]
     },
     "execution_count": 103,
     "metadata": {},
     "output_type": "execute_result"
    },
    {
     "data": {
      "text/plain": [
       "17"
      ]
     },
     "execution_count": 103,
     "metadata": {},
     "output_type": "execute_result"
    },
    {
     "data": {
      "text/plain": [
       "16"
      ]
     },
     "execution_count": 103,
     "metadata": {},
     "output_type": "execute_result"
    },
    {
     "data": {
      "text/plain": [
       "23"
      ]
     },
     "execution_count": 103,
     "metadata": {},
     "output_type": "execute_result"
    },
    {
     "data": {
      "text/plain": [
       "26"
      ]
     },
     "execution_count": 103,
     "metadata": {},
     "output_type": "execute_result"
    },
    {
     "data": {
      "text/plain": [
       "24"
      ]
     },
     "execution_count": 103,
     "metadata": {},
     "output_type": "execute_result"
    },
    {
     "data": {
      "text/plain": [
       "28"
      ]
     },
     "execution_count": 103,
     "metadata": {},
     "output_type": "execute_result"
    },
    {
     "data": {
      "text/plain": [
       "17"
      ]
     },
     "execution_count": 103,
     "metadata": {},
     "output_type": "execute_result"
    },
    {
     "data": {
      "text/plain": [
       "18"
      ]
     },
     "execution_count": 103,
     "metadata": {},
     "output_type": "execute_result"
    },
    {
     "data": {
      "text/plain": [
       "19"
      ]
     },
     "execution_count": 103,
     "metadata": {},
     "output_type": "execute_result"
    },
    {
     "data": {
      "text/plain": [
       "20"
      ]
     },
     "execution_count": 103,
     "metadata": {},
     "output_type": "execute_result"
    },
    {
     "data": {
      "text/plain": [
       "18"
      ]
     },
     "execution_count": 103,
     "metadata": {},
     "output_type": "execute_result"
    },
    {
     "data": {
      "text/plain": [
       "25"
      ]
     },
     "execution_count": 103,
     "metadata": {},
     "output_type": "execute_result"
    },
    {
     "data": {
      "text/plain": [
       "18"
      ]
     },
     "execution_count": 103,
     "metadata": {},
     "output_type": "execute_result"
    },
    {
     "data": {
      "text/plain": [
       "23"
      ]
     },
     "execution_count": 103,
     "metadata": {},
     "output_type": "execute_result"
    },
    {
     "data": {
      "text/plain": [
       "33"
      ]
     },
     "execution_count": 103,
     "metadata": {},
     "output_type": "execute_result"
    },
    {
     "data": {
      "text/plain": [
       "29"
      ]
     },
     "execution_count": 103,
     "metadata": {},
     "output_type": "execute_result"
    },
    {
     "data": {
      "text/plain": [
       "19"
      ]
     },
     "execution_count": 103,
     "metadata": {},
     "output_type": "execute_result"
    },
    {
     "data": {
      "text/plain": [
       "28"
      ]
     },
     "execution_count": 103,
     "metadata": {},
     "output_type": "execute_result"
    },
    {
     "data": {
      "text/plain": [
       "17"
      ]
     },
     "execution_count": 103,
     "metadata": {},
     "output_type": "execute_result"
    },
    {
     "data": {
      "text/plain": [
       "14"
      ]
     },
     "execution_count": 103,
     "metadata": {},
     "output_type": "execute_result"
    },
    {
     "data": {
      "text/plain": [
       "13"
      ]
     },
     "execution_count": 103,
     "metadata": {},
     "output_type": "execute_result"
    },
    {
     "data": {
      "text/plain": [
       "23"
      ]
     },
     "execution_count": 103,
     "metadata": {},
     "output_type": "execute_result"
    },
    {
     "data": {
      "text/plain": [
       "15"
      ]
     },
     "execution_count": 103,
     "metadata": {},
     "output_type": "execute_result"
    },
    {
     "data": {
      "text/plain": [
       "14"
      ]
     },
     "execution_count": 103,
     "metadata": {},
     "output_type": "execute_result"
    },
    {
     "data": {
      "text/plain": [
       "14"
      ]
     },
     "execution_count": 103,
     "metadata": {},
     "output_type": "execute_result"
    },
    {
     "data": {
      "text/plain": [
       "20"
      ]
     },
     "execution_count": 103,
     "metadata": {},
     "output_type": "execute_result"
    },
    {
     "data": {
      "text/plain": [
       "17"
      ]
     },
     "execution_count": 103,
     "metadata": {},
     "output_type": "execute_result"
    },
    {
     "data": {
      "text/plain": [
       "17"
      ]
     },
     "execution_count": 103,
     "metadata": {},
     "output_type": "execute_result"
    },
    {
     "data": {
      "text/plain": [
       "23"
      ]
     },
     "execution_count": 103,
     "metadata": {},
     "output_type": "execute_result"
    },
    {
     "data": {
      "text/plain": [
       "22"
      ]
     },
     "execution_count": 103,
     "metadata": {},
     "output_type": "execute_result"
    },
    {
     "data": {
      "text/plain": [
       "19"
      ]
     },
     "execution_count": 103,
     "metadata": {},
     "output_type": "execute_result"
    },
    {
     "data": {
      "text/plain": [
       "18"
      ]
     },
     "execution_count": 103,
     "metadata": {},
     "output_type": "execute_result"
    },
    {
     "data": {
      "text/plain": [
       "18"
      ]
     },
     "execution_count": 103,
     "metadata": {},
     "output_type": "execute_result"
    },
    {
     "data": {
      "text/plain": [
       "17"
      ]
     },
     "execution_count": 103,
     "metadata": {},
     "output_type": "execute_result"
    },
    {
     "data": {
      "text/plain": [
       "25"
      ]
     },
     "execution_count": 103,
     "metadata": {},
     "output_type": "execute_result"
    },
    {
     "data": {
      "text/plain": [
       "27"
      ]
     },
     "execution_count": 103,
     "metadata": {},
     "output_type": "execute_result"
    },
    {
     "data": {
      "text/plain": [
       "27"
      ]
     },
     "execution_count": 103,
     "metadata": {},
     "output_type": "execute_result"
    },
    {
     "data": {
      "text/plain": [
       "22"
      ]
     },
     "execution_count": 103,
     "metadata": {},
     "output_type": "execute_result"
    },
    {
     "data": {
      "text/plain": [
       "21"
      ]
     },
     "execution_count": 103,
     "metadata": {},
     "output_type": "execute_result"
    },
    {
     "data": {
      "text/plain": [
       "20"
      ]
     },
     "execution_count": 103,
     "metadata": {},
     "output_type": "execute_result"
    },
    {
     "data": {
      "text/plain": [
       "29"
      ]
     },
     "execution_count": 103,
     "metadata": {},
     "output_type": "execute_result"
    },
    {
     "data": {
      "text/plain": [
       "19"
      ]
     },
     "execution_count": 103,
     "metadata": {},
     "output_type": "execute_result"
    },
    {
     "data": {
      "text/plain": [
       "24"
      ]
     },
     "execution_count": 103,
     "metadata": {},
     "output_type": "execute_result"
    },
    {
     "data": {
      "text/plain": [
       "20"
      ]
     },
     "execution_count": 103,
     "metadata": {},
     "output_type": "execute_result"
    },
    {
     "data": {
      "text/plain": [
       "21"
      ]
     },
     "execution_count": 103,
     "metadata": {},
     "output_type": "execute_result"
    },
    {
     "data": {
      "text/plain": [
       "24"
      ]
     },
     "execution_count": 103,
     "metadata": {},
     "output_type": "execute_result"
    },
    {
     "data": {
      "text/plain": [
       "25"
      ]
     },
     "execution_count": 103,
     "metadata": {},
     "output_type": "execute_result"
    },
    {
     "data": {
      "text/plain": [
       "16"
      ]
     },
     "execution_count": 103,
     "metadata": {},
     "output_type": "execute_result"
    },
    {
     "data": {
      "text/plain": [
       "22"
      ]
     },
     "execution_count": 103,
     "metadata": {},
     "output_type": "execute_result"
    },
    {
     "data": {
      "text/plain": [
       "15"
      ]
     },
     "execution_count": 103,
     "metadata": {},
     "output_type": "execute_result"
    },
    {
     "data": {
      "text/plain": [
       "23"
      ]
     },
     "execution_count": 103,
     "metadata": {},
     "output_type": "execute_result"
    },
    {
     "data": {
      "text/plain": [
       "19"
      ]
     },
     "execution_count": 103,
     "metadata": {},
     "output_type": "execute_result"
    },
    {
     "data": {
      "text/plain": [
       "25"
      ]
     },
     "execution_count": 103,
     "metadata": {},
     "output_type": "execute_result"
    },
    {
     "data": {
      "text/plain": [
       "15"
      ]
     },
     "execution_count": 103,
     "metadata": {},
     "output_type": "execute_result"
    },
    {
     "data": {
      "text/plain": [
       "14"
      ]
     },
     "execution_count": 103,
     "metadata": {},
     "output_type": "execute_result"
    },
    {
     "data": {
      "text/plain": [
       "21"
      ]
     },
     "execution_count": 103,
     "metadata": {},
     "output_type": "execute_result"
    },
    {
     "data": {
      "text/plain": [
       "21"
      ]
     },
     "execution_count": 103,
     "metadata": {},
     "output_type": "execute_result"
    },
    {
     "data": {
      "text/plain": [
       "18"
      ]
     },
     "execution_count": 103,
     "metadata": {},
     "output_type": "execute_result"
    },
    {
     "data": {
      "text/plain": [
       "20"
      ]
     },
     "execution_count": 103,
     "metadata": {},
     "output_type": "execute_result"
    },
    {
     "data": {
      "text/plain": [
       "31"
      ]
     },
     "execution_count": 103,
     "metadata": {},
     "output_type": "execute_result"
    },
    {
     "data": {
      "text/plain": [
       "19"
      ]
     },
     "execution_count": 103,
     "metadata": {},
     "output_type": "execute_result"
    },
    {
     "data": {
      "text/plain": [
       "18"
      ]
     },
     "execution_count": 103,
     "metadata": {},
     "output_type": "execute_result"
    },
    {
     "data": {
      "text/plain": [
       "16"
      ]
     },
     "execution_count": 103,
     "metadata": {},
     "output_type": "execute_result"
    },
    {
     "data": {
      "text/plain": [
       "17"
      ]
     },
     "execution_count": 103,
     "metadata": {},
     "output_type": "execute_result"
    },
    {
     "data": {
      "text/plain": [
       "18"
      ]
     },
     "execution_count": 103,
     "metadata": {},
     "output_type": "execute_result"
    },
    {
     "data": {
      "text/plain": [
       "24"
      ]
     },
     "execution_count": 103,
     "metadata": {},
     "output_type": "execute_result"
    },
    {
     "data": {
      "text/plain": [
       "19"
      ]
     },
     "execution_count": 103,
     "metadata": {},
     "output_type": "execute_result"
    },
    {
     "data": {
      "text/plain": [
       "16"
      ]
     },
     "execution_count": 103,
     "metadata": {},
     "output_type": "execute_result"
    },
    {
     "data": {
      "text/plain": [
       "21"
      ]
     },
     "execution_count": 103,
     "metadata": {},
     "output_type": "execute_result"
    },
    {
     "data": {
      "text/plain": [
       "17"
      ]
     },
     "execution_count": 103,
     "metadata": {},
     "output_type": "execute_result"
    },
    {
     "data": {
      "text/plain": [
       "18"
      ]
     },
     "execution_count": 103,
     "metadata": {},
     "output_type": "execute_result"
    },
    {
     "data": {
      "text/plain": [
       "16"
      ]
     },
     "execution_count": 103,
     "metadata": {},
     "output_type": "execute_result"
    },
    {
     "data": {
      "text/plain": [
       "17"
      ]
     },
     "execution_count": 103,
     "metadata": {},
     "output_type": "execute_result"
    },
    {
     "data": {
      "text/plain": [
       "27"
      ]
     },
     "execution_count": 103,
     "metadata": {},
     "output_type": "execute_result"
    },
    {
     "data": {
      "text/plain": [
       "29"
      ]
     },
     "execution_count": 103,
     "metadata": {},
     "output_type": "execute_result"
    },
    {
     "data": {
      "text/plain": [
       "25"
      ]
     },
     "execution_count": 103,
     "metadata": {},
     "output_type": "execute_result"
    },
    {
     "data": {
      "text/plain": [
       "25"
      ]
     },
     "execution_count": 103,
     "metadata": {},
     "output_type": "execute_result"
    },
    {
     "data": {
      "text/plain": [
       "17"
      ]
     },
     "execution_count": 103,
     "metadata": {},
     "output_type": "execute_result"
    },
    {
     "data": {
      "text/plain": [
       "20"
      ]
     },
     "execution_count": 103,
     "metadata": {},
     "output_type": "execute_result"
    },
    {
     "data": {
      "text/plain": [
       "15"
      ]
     },
     "execution_count": 103,
     "metadata": {},
     "output_type": "execute_result"
    },
    {
     "data": {
      "text/plain": [
       "16"
      ]
     },
     "execution_count": 103,
     "metadata": {},
     "output_type": "execute_result"
    },
    {
     "data": {
      "text/plain": [
       "16"
      ]
     },
     "execution_count": 103,
     "metadata": {},
     "output_type": "execute_result"
    },
    {
     "data": {
      "text/plain": [
       "28"
      ]
     },
     "execution_count": 103,
     "metadata": {},
     "output_type": "execute_result"
    },
    {
     "data": {
      "text/plain": [
       "21"
      ]
     },
     "execution_count": 103,
     "metadata": {},
     "output_type": "execute_result"
    },
    {
     "data": {
      "text/plain": [
       "23"
      ]
     },
     "execution_count": 103,
     "metadata": {},
     "output_type": "execute_result"
    },
    {
     "data": {
      "text/plain": [
       "14"
      ]
     },
     "execution_count": 103,
     "metadata": {},
     "output_type": "execute_result"
    },
    {
     "data": {
      "text/plain": [
       "22"
      ]
     },
     "execution_count": 103,
     "metadata": {},
     "output_type": "execute_result"
    },
    {
     "data": {
      "text/plain": [
       "20"
      ]
     },
     "execution_count": 103,
     "metadata": {},
     "output_type": "execute_result"
    },
    {
     "data": {
      "text/plain": [
       "19"
      ]
     },
     "execution_count": 103,
     "metadata": {},
     "output_type": "execute_result"
    },
    {
     "data": {
      "text/plain": [
       "19"
      ]
     },
     "execution_count": 103,
     "metadata": {},
     "output_type": "execute_result"
    },
    {
     "data": {
      "text/plain": [
       "27"
      ]
     },
     "execution_count": 103,
     "metadata": {},
     "output_type": "execute_result"
    },
    {
     "data": {
      "text/plain": [
       "23"
      ]
     },
     "execution_count": 103,
     "metadata": {},
     "output_type": "execute_result"
    },
    {
     "data": {
      "text/plain": [
       "18"
      ]
     },
     "execution_count": 103,
     "metadata": {},
     "output_type": "execute_result"
    },
    {
     "data": {
      "text/plain": [
       "23"
      ]
     },
     "execution_count": 103,
     "metadata": {},
     "output_type": "execute_result"
    },
    {
     "data": {
      "text/plain": [
       "25"
      ]
     },
     "execution_count": 103,
     "metadata": {},
     "output_type": "execute_result"
    },
    {
     "data": {
      "text/plain": [
       "23"
      ]
     },
     "execution_count": 103,
     "metadata": {},
     "output_type": "execute_result"
    },
    {
     "data": {
      "text/plain": [
       "24"
      ]
     },
     "execution_count": 103,
     "metadata": {},
     "output_type": "execute_result"
    },
    {
     "data": {
      "text/plain": [
       "30"
      ]
     },
     "execution_count": 103,
     "metadata": {},
     "output_type": "execute_result"
    },
    {
     "data": {
      "text/plain": [
       "17"
      ]
     },
     "execution_count": 103,
     "metadata": {},
     "output_type": "execute_result"
    },
    {
     "data": {
      "text/plain": [
       "19"
      ]
     },
     "execution_count": 103,
     "metadata": {},
     "output_type": "execute_result"
    },
    {
     "data": {
      "text/plain": [
       "17"
      ]
     },
     "execution_count": 103,
     "metadata": {},
     "output_type": "execute_result"
    },
    {
     "data": {
      "text/plain": [
       "17"
      ]
     },
     "execution_count": 103,
     "metadata": {},
     "output_type": "execute_result"
    },
    {
     "data": {
      "text/plain": [
       "18"
      ]
     },
     "execution_count": 103,
     "metadata": {},
     "output_type": "execute_result"
    },
    {
     "data": {
      "text/plain": [
       "15"
      ]
     },
     "execution_count": 103,
     "metadata": {},
     "output_type": "execute_result"
    },
    {
     "data": {
      "text/plain": [
       "32"
      ]
     },
     "execution_count": 103,
     "metadata": {},
     "output_type": "execute_result"
    },
    {
     "data": {
      "text/plain": [
       "17"
      ]
     },
     "execution_count": 103,
     "metadata": {},
     "output_type": "execute_result"
    },
    {
     "data": {
      "text/plain": [
       "22"
      ]
     },
     "execution_count": 103,
     "metadata": {},
     "output_type": "execute_result"
    },
    {
     "data": {
      "text/plain": [
       "20"
      ]
     },
     "execution_count": 103,
     "metadata": {},
     "output_type": "execute_result"
    },
    {
     "data": {
      "text/plain": [
       "17"
      ]
     },
     "execution_count": 103,
     "metadata": {},
     "output_type": "execute_result"
    },
    {
     "data": {
      "text/plain": [
       "15"
      ]
     },
     "execution_count": 103,
     "metadata": {},
     "output_type": "execute_result"
    },
    {
     "data": {
      "text/plain": [
       "16"
      ]
     },
     "execution_count": 103,
     "metadata": {},
     "output_type": "execute_result"
    },
    {
     "data": {
      "text/plain": [
       "22"
      ]
     },
     "execution_count": 103,
     "metadata": {},
     "output_type": "execute_result"
    },
    {
     "data": {
      "text/plain": [
       "16"
      ]
     },
     "execution_count": 103,
     "metadata": {},
     "output_type": "execute_result"
    },
    {
     "data": {
      "text/plain": [
       "17"
      ]
     },
     "execution_count": 103,
     "metadata": {},
     "output_type": "execute_result"
    },
    {
     "data": {
      "text/plain": [
       "28"
      ]
     },
     "execution_count": 103,
     "metadata": {},
     "output_type": "execute_result"
    },
    {
     "data": {
      "text/plain": [
       "16"
      ]
     },
     "execution_count": 103,
     "metadata": {},
     "output_type": "execute_result"
    },
    {
     "data": {
      "text/plain": [
       "14"
      ]
     },
     "execution_count": 103,
     "metadata": {},
     "output_type": "execute_result"
    },
    {
     "data": {
      "text/plain": [
       "17"
      ]
     },
     "execution_count": 103,
     "metadata": {},
     "output_type": "execute_result"
    },
    {
     "data": {
      "text/plain": [
       "18"
      ]
     },
     "execution_count": 103,
     "metadata": {},
     "output_type": "execute_result"
    },
    {
     "data": {
      "text/plain": [
       "19"
      ]
     },
     "execution_count": 103,
     "metadata": {},
     "output_type": "execute_result"
    },
    {
     "data": {
      "text/plain": [
       "22"
      ]
     },
     "execution_count": 103,
     "metadata": {},
     "output_type": "execute_result"
    },
    {
     "data": {
      "text/plain": [
       "26"
      ]
     },
     "execution_count": 103,
     "metadata": {},
     "output_type": "execute_result"
    },
    {
     "data": {
      "text/plain": [
       "23"
      ]
     },
     "execution_count": 103,
     "metadata": {},
     "output_type": "execute_result"
    },
    {
     "data": {
      "text/plain": [
       "17"
      ]
     },
     "execution_count": 103,
     "metadata": {},
     "output_type": "execute_result"
    },
    {
     "data": {
      "text/plain": [
       "16"
      ]
     },
     "execution_count": 103,
     "metadata": {},
     "output_type": "execute_result"
    },
    {
     "data": {
      "text/plain": [
       "19"
      ]
     },
     "execution_count": 103,
     "metadata": {},
     "output_type": "execute_result"
    },
    {
     "data": {
      "text/plain": [
       "27"
      ]
     },
     "execution_count": 103,
     "metadata": {},
     "output_type": "execute_result"
    },
    {
     "data": {
      "text/plain": [
       "17"
      ]
     },
     "execution_count": 103,
     "metadata": {},
     "output_type": "execute_result"
    },
    {
     "data": {
      "text/plain": [
       "18"
      ]
     },
     "execution_count": 103,
     "metadata": {},
     "output_type": "execute_result"
    },
    {
     "data": {
      "text/plain": [
       "19"
      ]
     },
     "execution_count": 103,
     "metadata": {},
     "output_type": "execute_result"
    },
    {
     "data": {
      "text/plain": [
       "26"
      ]
     },
     "execution_count": 103,
     "metadata": {},
     "output_type": "execute_result"
    },
    {
     "data": {
      "text/plain": [
       "22"
      ]
     },
     "execution_count": 103,
     "metadata": {},
     "output_type": "execute_result"
    },
    {
     "data": {
      "text/plain": [
       "18"
      ]
     },
     "execution_count": 103,
     "metadata": {},
     "output_type": "execute_result"
    },
    {
     "data": {
      "text/plain": [
       "18"
      ]
     },
     "execution_count": 103,
     "metadata": {},
     "output_type": "execute_result"
    },
    {
     "data": {
      "text/plain": [
       "24"
      ]
     },
     "execution_count": 103,
     "metadata": {},
     "output_type": "execute_result"
    },
    {
     "data": {
      "text/plain": [
       "19"
      ]
     },
     "execution_count": 103,
     "metadata": {},
     "output_type": "execute_result"
    },
    {
     "data": {
      "text/plain": [
       "29"
      ]
     },
     "execution_count": 103,
     "metadata": {},
     "output_type": "execute_result"
    },
    {
     "data": {
      "text/plain": [
       "22"
      ]
     },
     "execution_count": 103,
     "metadata": {},
     "output_type": "execute_result"
    },
    {
     "data": {
      "text/plain": [
       "26"
      ]
     },
     "execution_count": 103,
     "metadata": {},
     "output_type": "execute_result"
    },
    {
     "data": {
      "text/plain": [
       "18"
      ]
     },
     "execution_count": 103,
     "metadata": {},
     "output_type": "execute_result"
    },
    {
     "data": {
      "text/plain": [
       "19"
      ]
     },
     "execution_count": 103,
     "metadata": {},
     "output_type": "execute_result"
    },
    {
     "data": {
      "text/plain": [
       "23"
      ]
     },
     "execution_count": 103,
     "metadata": {},
     "output_type": "execute_result"
    },
    {
     "data": {
      "text/plain": [
       "17"
      ]
     },
     "execution_count": 103,
     "metadata": {},
     "output_type": "execute_result"
    },
    {
     "data": {
      "text/plain": [
       "16"
      ]
     },
     "execution_count": 103,
     "metadata": {},
     "output_type": "execute_result"
    },
    {
     "data": {
      "text/plain": [
       "17"
      ]
     },
     "execution_count": 103,
     "metadata": {},
     "output_type": "execute_result"
    },
    {
     "data": {
      "text/plain": [
       "29"
      ]
     },
     "execution_count": 103,
     "metadata": {},
     "output_type": "execute_result"
    },
    {
     "data": {
      "text/plain": [
       "23"
      ]
     },
     "execution_count": 103,
     "metadata": {},
     "output_type": "execute_result"
    },
    {
     "data": {
      "text/plain": [
       "17"
      ]
     },
     "execution_count": 103,
     "metadata": {},
     "output_type": "execute_result"
    },
    {
     "data": {
      "text/plain": [
       "30"
      ]
     },
     "execution_count": 103,
     "metadata": {},
     "output_type": "execute_result"
    },
    {
     "data": {
      "text/plain": [
       "23"
      ]
     },
     "execution_count": 103,
     "metadata": {},
     "output_type": "execute_result"
    },
    {
     "data": {
      "text/plain": [
       "19"
      ]
     },
     "execution_count": 103,
     "metadata": {},
     "output_type": "execute_result"
    },
    {
     "data": {
      "text/plain": [
       "18"
      ]
     },
     "execution_count": 103,
     "metadata": {},
     "output_type": "execute_result"
    },
    {
     "data": {
      "text/plain": [
       "18"
      ]
     },
     "execution_count": 103,
     "metadata": {},
     "output_type": "execute_result"
    },
    {
     "data": {
      "text/plain": [
       "26"
      ]
     },
     "execution_count": 103,
     "metadata": {},
     "output_type": "execute_result"
    },
    {
     "data": {
      "text/plain": [
       "21"
      ]
     },
     "execution_count": 103,
     "metadata": {},
     "output_type": "execute_result"
    },
    {
     "data": {
      "text/plain": [
       "17"
      ]
     },
     "execution_count": 103,
     "metadata": {},
     "output_type": "execute_result"
    },
    {
     "data": {
      "text/plain": [
       "16"
      ]
     },
     "execution_count": 103,
     "metadata": {},
     "output_type": "execute_result"
    },
    {
     "data": {
      "text/plain": [
       "18"
      ]
     },
     "execution_count": 103,
     "metadata": {},
     "output_type": "execute_result"
    },
    {
     "data": {
      "text/plain": [
       "16"
      ]
     },
     "execution_count": 103,
     "metadata": {},
     "output_type": "execute_result"
    },
    {
     "data": {
      "text/plain": [
       "29"
      ]
     },
     "execution_count": 103,
     "metadata": {},
     "output_type": "execute_result"
    },
    {
     "data": {
      "text/plain": [
       "21"
      ]
     },
     "execution_count": 103,
     "metadata": {},
     "output_type": "execute_result"
    },
    {
     "data": {
      "text/plain": [
       "18"
      ]
     },
     "execution_count": 103,
     "metadata": {},
     "output_type": "execute_result"
    },
    {
     "data": {
      "text/plain": [
       "16"
      ]
     },
     "execution_count": 103,
     "metadata": {},
     "output_type": "execute_result"
    },
    {
     "data": {
      "text/plain": [
       "16"
      ]
     },
     "execution_count": 103,
     "metadata": {},
     "output_type": "execute_result"
    },
    {
     "data": {
      "text/plain": [
       "15"
      ]
     },
     "execution_count": 103,
     "metadata": {},
     "output_type": "execute_result"
    },
    {
     "data": {
      "text/plain": [
       "22"
      ]
     },
     "execution_count": 103,
     "metadata": {},
     "output_type": "execute_result"
    },
    {
     "data": {
      "text/plain": [
       "24"
      ]
     },
     "execution_count": 103,
     "metadata": {},
     "output_type": "execute_result"
    },
    {
     "data": {
      "text/plain": [
       "21"
      ]
     },
     "execution_count": 103,
     "metadata": {},
     "output_type": "execute_result"
    },
    {
     "data": {
      "text/plain": [
       "22"
      ]
     },
     "execution_count": 103,
     "metadata": {},
     "output_type": "execute_result"
    },
    {
     "data": {
      "text/plain": [
       "18"
      ]
     },
     "execution_count": 103,
     "metadata": {},
     "output_type": "execute_result"
    },
    {
     "data": {
      "text/plain": [
       "25"
      ]
     },
     "execution_count": 103,
     "metadata": {},
     "output_type": "execute_result"
    },
    {
     "data": {
      "text/plain": [
       "17"
      ]
     },
     "execution_count": 103,
     "metadata": {},
     "output_type": "execute_result"
    },
    {
     "data": {
      "text/plain": [
       "23"
      ]
     },
     "execution_count": 103,
     "metadata": {},
     "output_type": "execute_result"
    },
    {
     "data": {
      "text/plain": [
       "16"
      ]
     },
     "execution_count": 103,
     "metadata": {},
     "output_type": "execute_result"
    },
    {
     "data": {
      "text/plain": [
       "15"
      ]
     },
     "execution_count": 103,
     "metadata": {},
     "output_type": "execute_result"
    },
    {
     "data": {
      "text/plain": [
       "22"
      ]
     },
     "execution_count": 103,
     "metadata": {},
     "output_type": "execute_result"
    },
    {
     "data": {
      "text/plain": [
       "23"
      ]
     },
     "execution_count": 103,
     "metadata": {},
     "output_type": "execute_result"
    },
    {
     "data": {
      "text/plain": [
       "20"
      ]
     },
     "execution_count": 103,
     "metadata": {},
     "output_type": "execute_result"
    },
    {
     "data": {
      "text/plain": [
       "33"
      ]
     },
     "execution_count": 103,
     "metadata": {},
     "output_type": "execute_result"
    },
    {
     "data": {
      "text/plain": [
       "22"
      ]
     },
     "execution_count": 103,
     "metadata": {},
     "output_type": "execute_result"
    },
    {
     "data": {
      "text/plain": [
       "20"
      ]
     },
     "execution_count": 103,
     "metadata": {},
     "output_type": "execute_result"
    },
    {
     "data": {
      "text/plain": [
       "29"
      ]
     },
     "execution_count": 103,
     "metadata": {},
     "output_type": "execute_result"
    },
    {
     "data": {
      "text/plain": [
       "19"
      ]
     },
     "execution_count": 103,
     "metadata": {},
     "output_type": "execute_result"
    },
    {
     "data": {
      "text/plain": [
       "18"
      ]
     },
     "execution_count": 103,
     "metadata": {},
     "output_type": "execute_result"
    },
    {
     "data": {
      "text/plain": [
       "20"
      ]
     },
     "execution_count": 103,
     "metadata": {},
     "output_type": "execute_result"
    },
    {
     "data": {
      "text/plain": [
       "27"
      ]
     },
     "execution_count": 103,
     "metadata": {},
     "output_type": "execute_result"
    },
    {
     "data": {
      "text/plain": [
       "27"
      ]
     },
     "execution_count": 103,
     "metadata": {},
     "output_type": "execute_result"
    },
    {
     "data": {
      "text/plain": [
       "19"
      ]
     },
     "execution_count": 103,
     "metadata": {},
     "output_type": "execute_result"
    },
    {
     "data": {
      "text/plain": [
       "20"
      ]
     },
     "execution_count": 103,
     "metadata": {},
     "output_type": "execute_result"
    },
    {
     "data": {
      "text/plain": [
       "21"
      ]
     },
     "execution_count": 103,
     "metadata": {},
     "output_type": "execute_result"
    },
    {
     "data": {
      "text/plain": [
       "24"
      ]
     },
     "execution_count": 103,
     "metadata": {},
     "output_type": "execute_result"
    },
    {
     "data": {
      "text/plain": [
       "19"
      ]
     },
     "execution_count": 103,
     "metadata": {},
     "output_type": "execute_result"
    },
    {
     "data": {
      "text/plain": [
       "19"
      ]
     },
     "execution_count": 103,
     "metadata": {},
     "output_type": "execute_result"
    },
    {
     "data": {
      "text/plain": [
       "20"
      ]
     },
     "execution_count": 103,
     "metadata": {},
     "output_type": "execute_result"
    },
    {
     "data": {
      "text/plain": [
       "32"
      ]
     },
     "execution_count": 103,
     "metadata": {},
     "output_type": "execute_result"
    },
    {
     "data": {
      "text/plain": [
       "28"
      ]
     },
     "execution_count": 103,
     "metadata": {},
     "output_type": "execute_result"
    },
    {
     "data": {
      "text/plain": [
       "20"
      ]
     },
     "execution_count": 103,
     "metadata": {},
     "output_type": "execute_result"
    },
    {
     "data": {
      "text/plain": [
       "35"
      ]
     },
     "execution_count": 103,
     "metadata": {},
     "output_type": "execute_result"
    },
    {
     "data": {
      "text/plain": [
       "22"
      ]
     },
     "execution_count": 103,
     "metadata": {},
     "output_type": "execute_result"
    },
    {
     "data": {
      "text/plain": [
       "24"
      ]
     },
     "execution_count": 103,
     "metadata": {},
     "output_type": "execute_result"
    },
    {
     "data": {
      "text/plain": [
       "22"
      ]
     },
     "execution_count": 103,
     "metadata": {},
     "output_type": "execute_result"
    },
    {
     "data": {
      "text/plain": [
       "21"
      ]
     },
     "execution_count": 103,
     "metadata": {},
     "output_type": "execute_result"
    },
    {
     "data": {
      "text/plain": [
       "22"
      ]
     },
     "execution_count": 103,
     "metadata": {},
     "output_type": "execute_result"
    },
    {
     "data": {
      "text/plain": [
       "23"
      ]
     },
     "execution_count": 103,
     "metadata": {},
     "output_type": "execute_result"
    },
    {
     "data": {
      "text/plain": [
       "30"
      ]
     },
     "execution_count": 103,
     "metadata": {},
     "output_type": "execute_result"
    },
    {
     "data": {
      "text/plain": [
       "25"
      ]
     },
     "execution_count": 103,
     "metadata": {},
     "output_type": "execute_result"
    },
    {
     "data": {
      "text/plain": [
       "37"
      ]
     },
     "execution_count": 103,
     "metadata": {},
     "output_type": "execute_result"
    },
    {
     "data": {
      "text/plain": [
       "18"
      ]
     },
     "execution_count": 103,
     "metadata": {},
     "output_type": "execute_result"
    },
    {
     "data": {
      "text/plain": [
       "23"
      ]
     },
     "execution_count": 103,
     "metadata": {},
     "output_type": "execute_result"
    },
    {
     "data": {
      "text/plain": [
       "20"
      ]
     },
     "execution_count": 103,
     "metadata": {},
     "output_type": "execute_result"
    },
    {
     "data": {
      "text/plain": [
       "19"
      ]
     },
     "execution_count": 103,
     "metadata": {},
     "output_type": "execute_result"
    },
    {
     "data": {
      "text/plain": [
       "25"
      ]
     },
     "execution_count": 103,
     "metadata": {},
     "output_type": "execute_result"
    },
    {
     "data": {
      "text/plain": [
       "19"
      ]
     },
     "execution_count": 103,
     "metadata": {},
     "output_type": "execute_result"
    },
    {
     "data": {
      "text/plain": [
       "30"
      ]
     },
     "execution_count": 103,
     "metadata": {},
     "output_type": "execute_result"
    },
    {
     "data": {
      "text/plain": [
       "26"
      ]
     },
     "execution_count": 103,
     "metadata": {},
     "output_type": "execute_result"
    },
    {
     "data": {
      "text/plain": [
       "18"
      ]
     },
     "execution_count": 103,
     "metadata": {},
     "output_type": "execute_result"
    },
    {
     "data": {
      "text/plain": [
       "26"
      ]
     },
     "execution_count": 103,
     "metadata": {},
     "output_type": "execute_result"
    },
    {
     "data": {
      "text/plain": [
       "19"
      ]
     },
     "execution_count": 103,
     "metadata": {},
     "output_type": "execute_result"
    },
    {
     "data": {
      "text/plain": [
       "22"
      ]
     },
     "execution_count": 103,
     "metadata": {},
     "output_type": "execute_result"
    },
    {
     "data": {
      "text/plain": [
       "18"
      ]
     },
     "execution_count": 103,
     "metadata": {},
     "output_type": "execute_result"
    },
    {
     "data": {
      "text/plain": [
       "17"
      ]
     },
     "execution_count": 103,
     "metadata": {},
     "output_type": "execute_result"
    },
    {
     "data": {
      "text/plain": [
       "29"
      ]
     },
     "execution_count": 103,
     "metadata": {},
     "output_type": "execute_result"
    },
    {
     "data": {
      "text/plain": [
       "17"
      ]
     },
     "execution_count": 103,
     "metadata": {},
     "output_type": "execute_result"
    },
    {
     "data": {
      "text/plain": [
       "27"
      ]
     },
     "execution_count": 103,
     "metadata": {},
     "output_type": "execute_result"
    },
    {
     "data": {
      "text/plain": [
       "17"
      ]
     },
     "execution_count": 103,
     "metadata": {},
     "output_type": "execute_result"
    },
    {
     "data": {
      "text/plain": [
       "19"
      ]
     },
     "execution_count": 103,
     "metadata": {},
     "output_type": "execute_result"
    },
    {
     "data": {
      "text/plain": [
       "16"
      ]
     },
     "execution_count": 103,
     "metadata": {},
     "output_type": "execute_result"
    },
    {
     "data": {
      "text/plain": [
       "17"
      ]
     },
     "execution_count": 103,
     "metadata": {},
     "output_type": "execute_result"
    },
    {
     "data": {
      "text/plain": [
       "30"
      ]
     },
     "execution_count": 103,
     "metadata": {},
     "output_type": "execute_result"
    },
    {
     "data": {
      "text/plain": [
       "19"
      ]
     },
     "execution_count": 103,
     "metadata": {},
     "output_type": "execute_result"
    },
    {
     "data": {
      "text/plain": [
       "17"
      ]
     },
     "execution_count": 103,
     "metadata": {},
     "output_type": "execute_result"
    },
    {
     "data": {
      "text/plain": [
       "16"
      ]
     },
     "execution_count": 103,
     "metadata": {},
     "output_type": "execute_result"
    },
    {
     "data": {
      "text/plain": [
       "25"
      ]
     },
     "execution_count": 103,
     "metadata": {},
     "output_type": "execute_result"
    },
    {
     "data": {
      "text/plain": [
       "17"
      ]
     },
     "execution_count": 103,
     "metadata": {},
     "output_type": "execute_result"
    },
    {
     "data": {
      "text/plain": [
       "21"
      ]
     },
     "execution_count": 103,
     "metadata": {},
     "output_type": "execute_result"
    },
    {
     "data": {
      "text/plain": [
       "20"
      ]
     },
     "execution_count": 103,
     "metadata": {},
     "output_type": "execute_result"
    },
    {
     "data": {
      "text/plain": [
       "15"
      ]
     },
     "execution_count": 103,
     "metadata": {},
     "output_type": "execute_result"
    },
    {
     "data": {
      "text/plain": [
       "19"
      ]
     },
     "execution_count": 103,
     "metadata": {},
     "output_type": "execute_result"
    },
    {
     "data": {
      "text/plain": [
       "20"
      ]
     },
     "execution_count": 103,
     "metadata": {},
     "output_type": "execute_result"
    },
    {
     "data": {
      "text/plain": [
       "28"
      ]
     },
     "execution_count": 103,
     "metadata": {},
     "output_type": "execute_result"
    },
    {
     "data": {
      "text/plain": [
       "19"
      ]
     },
     "execution_count": 103,
     "metadata": {},
     "output_type": "execute_result"
    },
    {
     "data": {
      "text/plain": [
       "20"
      ]
     },
     "execution_count": 103,
     "metadata": {},
     "output_type": "execute_result"
    },
    {
     "data": {
      "text/plain": [
       "26"
      ]
     },
     "execution_count": 103,
     "metadata": {},
     "output_type": "execute_result"
    },
    {
     "data": {
      "text/plain": [
       "22"
      ]
     },
     "execution_count": 103,
     "metadata": {},
     "output_type": "execute_result"
    },
    {
     "data": {
      "text/plain": [
       "28"
      ]
     },
     "execution_count": 103,
     "metadata": {},
     "output_type": "execute_result"
    },
    {
     "data": {
      "text/plain": [
       "22"
      ]
     },
     "execution_count": 103,
     "metadata": {},
     "output_type": "execute_result"
    },
    {
     "data": {
      "text/plain": [
       "23"
      ]
     },
     "execution_count": 103,
     "metadata": {},
     "output_type": "execute_result"
    },
    {
     "data": {
      "text/plain": [
       "14"
      ]
     },
     "execution_count": 103,
     "metadata": {},
     "output_type": "execute_result"
    },
    {
     "data": {
      "text/plain": [
       "15"
      ]
     },
     "execution_count": 103,
     "metadata": {},
     "output_type": "execute_result"
    },
    {
     "data": {
      "text/plain": [
       "27"
      ]
     },
     "execution_count": 103,
     "metadata": {},
     "output_type": "execute_result"
    },
    {
     "data": {
      "text/plain": [
       "15"
      ]
     },
     "execution_count": 103,
     "metadata": {},
     "output_type": "execute_result"
    },
    {
     "data": {
      "text/plain": [
       "16"
      ]
     },
     "execution_count": 103,
     "metadata": {},
     "output_type": "execute_result"
    },
    {
     "data": {
      "text/plain": [
       "24"
      ]
     },
     "execution_count": 103,
     "metadata": {},
     "output_type": "execute_result"
    },
    {
     "data": {
      "text/plain": [
       "15"
      ]
     },
     "execution_count": 103,
     "metadata": {},
     "output_type": "execute_result"
    },
    {
     "data": {
      "text/plain": [
       "13"
      ]
     },
     "execution_count": 103,
     "metadata": {},
     "output_type": "execute_result"
    },
    {
     "data": {
      "text/plain": [
       "18"
      ]
     },
     "execution_count": 103,
     "metadata": {},
     "output_type": "execute_result"
    },
    {
     "data": {
      "text/plain": [
       "19"
      ]
     },
     "execution_count": 103,
     "metadata": {},
     "output_type": "execute_result"
    },
    {
     "data": {
      "text/plain": [
       "15"
      ]
     },
     "execution_count": 103,
     "metadata": {},
     "output_type": "execute_result"
    },
    {
     "data": {
      "text/plain": [
       "28"
      ]
     },
     "execution_count": 103,
     "metadata": {},
     "output_type": "execute_result"
    },
    {
     "data": {
      "text/plain": [
       "15"
      ]
     },
     "execution_count": 103,
     "metadata": {},
     "output_type": "execute_result"
    },
    {
     "data": {
      "text/plain": [
       "15"
      ]
     },
     "execution_count": 103,
     "metadata": {},
     "output_type": "execute_result"
    },
    {
     "data": {
      "text/plain": [
       "24"
      ]
     },
     "execution_count": 103,
     "metadata": {},
     "output_type": "execute_result"
    },
    {
     "data": {
      "text/plain": [
       "24"
      ]
     },
     "execution_count": 103,
     "metadata": {},
     "output_type": "execute_result"
    },
    {
     "data": {
      "text/plain": [
       "17"
      ]
     },
     "execution_count": 103,
     "metadata": {},
     "output_type": "execute_result"
    },
    {
     "data": {
      "text/plain": [
       "16"
      ]
     },
     "execution_count": 103,
     "metadata": {},
     "output_type": "execute_result"
    },
    {
     "data": {
      "text/plain": [
       "21"
      ]
     },
     "execution_count": 103,
     "metadata": {},
     "output_type": "execute_result"
    },
    {
     "data": {
      "text/plain": [
       "15"
      ]
     },
     "execution_count": 103,
     "metadata": {},
     "output_type": "execute_result"
    },
    {
     "data": {
      "text/plain": [
       "31"
      ]
     },
     "execution_count": 103,
     "metadata": {},
     "output_type": "execute_result"
    },
    {
     "data": {
      "text/plain": [
       "18"
      ]
     },
     "execution_count": 103,
     "metadata": {},
     "output_type": "execute_result"
    },
    {
     "data": {
      "text/plain": [
       "18"
      ]
     },
     "execution_count": 103,
     "metadata": {},
     "output_type": "execute_result"
    },
    {
     "data": {
      "text/plain": [
       "19"
      ]
     },
     "execution_count": 103,
     "metadata": {},
     "output_type": "execute_result"
    },
    {
     "data": {
      "text/plain": [
       "26"
      ]
     },
     "execution_count": 103,
     "metadata": {},
     "output_type": "execute_result"
    },
    {
     "data": {
      "text/plain": [
       "16"
      ]
     },
     "execution_count": 103,
     "metadata": {},
     "output_type": "execute_result"
    },
    {
     "data": {
      "text/plain": [
       "17"
      ]
     },
     "execution_count": 103,
     "metadata": {},
     "output_type": "execute_result"
    },
    {
     "data": {
      "text/plain": [
       "18"
      ]
     },
     "execution_count": 103,
     "metadata": {},
     "output_type": "execute_result"
    },
    {
     "data": {
      "text/plain": [
       "16"
      ]
     },
     "execution_count": 103,
     "metadata": {},
     "output_type": "execute_result"
    },
    {
     "data": {
      "text/plain": [
       "26"
      ]
     },
     "execution_count": 103,
     "metadata": {},
     "output_type": "execute_result"
    },
    {
     "data": {
      "text/plain": [
       "29"
      ]
     },
     "execution_count": 103,
     "metadata": {},
     "output_type": "execute_result"
    },
    {
     "data": {
      "text/plain": [
       "18"
      ]
     },
     "execution_count": 103,
     "metadata": {},
     "output_type": "execute_result"
    },
    {
     "data": {
      "text/plain": [
       "16"
      ]
     },
     "execution_count": 103,
     "metadata": {},
     "output_type": "execute_result"
    },
    {
     "data": {
      "text/plain": [
       "16"
      ]
     },
     "execution_count": 103,
     "metadata": {},
     "output_type": "execute_result"
    },
    {
     "data": {
      "text/plain": [
       "17"
      ]
     },
     "execution_count": 103,
     "metadata": {},
     "output_type": "execute_result"
    },
    {
     "data": {
      "text/plain": [
       "17"
      ]
     },
     "execution_count": 103,
     "metadata": {},
     "output_type": "execute_result"
    },
    {
     "data": {
      "text/plain": [
       "24"
      ]
     },
     "execution_count": 103,
     "metadata": {},
     "output_type": "execute_result"
    },
    {
     "data": {
      "text/plain": [
       "15"
      ]
     },
     "execution_count": 103,
     "metadata": {},
     "output_type": "execute_result"
    },
    {
     "data": {
      "text/plain": [
       "14"
      ]
     },
     "execution_count": 103,
     "metadata": {},
     "output_type": "execute_result"
    },
    {
     "data": {
      "text/plain": [
       "16"
      ]
     },
     "execution_count": 103,
     "metadata": {},
     "output_type": "execute_result"
    },
    {
     "data": {
      "text/plain": [
       "21"
      ]
     },
     "execution_count": 103,
     "metadata": {},
     "output_type": "execute_result"
    },
    {
     "data": {
      "text/plain": [
       "28"
      ]
     },
     "execution_count": 103,
     "metadata": {},
     "output_type": "execute_result"
    },
    {
     "data": {
      "text/plain": [
       "19"
      ]
     },
     "execution_count": 103,
     "metadata": {},
     "output_type": "execute_result"
    },
    {
     "data": {
      "text/plain": [
       "26"
      ]
     },
     "execution_count": 103,
     "metadata": {},
     "output_type": "execute_result"
    },
    {
     "data": {
      "text/plain": [
       "26"
      ]
     },
     "execution_count": 103,
     "metadata": {},
     "output_type": "execute_result"
    },
    {
     "data": {
      "text/plain": [
       "18"
      ]
     },
     "execution_count": 103,
     "metadata": {},
     "output_type": "execute_result"
    },
    {
     "data": {
      "text/plain": [
       "19"
      ]
     },
     "execution_count": 103,
     "metadata": {},
     "output_type": "execute_result"
    },
    {
     "data": {
      "text/plain": [
       "25"
      ]
     },
     "execution_count": 103,
     "metadata": {},
     "output_type": "execute_result"
    },
    {
     "data": {
      "text/plain": [
       "23"
      ]
     },
     "execution_count": 103,
     "metadata": {},
     "output_type": "execute_result"
    },
    {
     "data": {
      "text/plain": [
       "22"
      ]
     },
     "execution_count": 103,
     "metadata": {},
     "output_type": "execute_result"
    },
    {
     "data": {
      "text/plain": [
       "32"
      ]
     },
     "execution_count": 103,
     "metadata": {},
     "output_type": "execute_result"
    },
    {
     "data": {
      "text/plain": [
       "19"
      ]
     },
     "execution_count": 103,
     "metadata": {},
     "output_type": "execute_result"
    },
    {
     "data": {
      "text/plain": [
       "20"
      ]
     },
     "execution_count": 103,
     "metadata": {},
     "output_type": "execute_result"
    },
    {
     "data": {
      "text/plain": [
       "27"
      ]
     },
     "execution_count": 103,
     "metadata": {},
     "output_type": "execute_result"
    },
    {
     "data": {
      "text/plain": [
       "18"
      ]
     },
     "execution_count": 103,
     "metadata": {},
     "output_type": "execute_result"
    },
    {
     "data": {
      "text/plain": [
       "19"
      ]
     },
     "execution_count": 103,
     "metadata": {},
     "output_type": "execute_result"
    },
    {
     "data": {
      "text/plain": [
       "17"
      ]
     },
     "execution_count": 103,
     "metadata": {},
     "output_type": "execute_result"
    },
    {
     "data": {
      "text/plain": [
       "19"
      ]
     },
     "execution_count": 103,
     "metadata": {},
     "output_type": "execute_result"
    },
    {
     "data": {
      "text/plain": [
       "21"
      ]
     },
     "execution_count": 103,
     "metadata": {},
     "output_type": "execute_result"
    },
    {
     "data": {
      "text/plain": [
       "24"
      ]
     },
     "execution_count": 103,
     "metadata": {},
     "output_type": "execute_result"
    },
    {
     "data": {
      "text/plain": [
       "22"
      ]
     },
     "execution_count": 103,
     "metadata": {},
     "output_type": "execute_result"
    },
    {
     "data": {
      "text/plain": [
       "21"
      ]
     },
     "execution_count": 103,
     "metadata": {},
     "output_type": "execute_result"
    },
    {
     "data": {
      "text/plain": [
       "25"
      ]
     },
     "execution_count": 103,
     "metadata": {},
     "output_type": "execute_result"
    },
    {
     "data": {
      "text/plain": [
       "21"
      ]
     },
     "execution_count": 103,
     "metadata": {},
     "output_type": "execute_result"
    },
    {
     "data": {
      "text/plain": [
       "20"
      ]
     },
     "execution_count": 103,
     "metadata": {},
     "output_type": "execute_result"
    },
    {
     "data": {
      "text/plain": [
       "24"
      ]
     },
     "execution_count": 103,
     "metadata": {},
     "output_type": "execute_result"
    },
    {
     "data": {
      "text/plain": [
       "22"
      ]
     },
     "execution_count": 103,
     "metadata": {},
     "output_type": "execute_result"
    },
    {
     "data": {
      "text/plain": [
       "33"
      ]
     },
     "execution_count": 103,
     "metadata": {},
     "output_type": "execute_result"
    },
    {
     "data": {
      "text/plain": [
       "20"
      ]
     },
     "execution_count": 103,
     "metadata": {},
     "output_type": "execute_result"
    },
    {
     "data": {
      "text/plain": [
       "19"
      ]
     },
     "execution_count": 103,
     "metadata": {},
     "output_type": "execute_result"
    },
    {
     "data": {
      "text/plain": [
       "21"
      ]
     },
     "execution_count": 103,
     "metadata": {},
     "output_type": "execute_result"
    },
    {
     "data": {
      "text/plain": [
       "30"
      ]
     },
     "execution_count": 103,
     "metadata": {},
     "output_type": "execute_result"
    },
    {
     "data": {
      "text/plain": [
       "29"
      ]
     },
     "execution_count": 103,
     "metadata": {},
     "output_type": "execute_result"
    },
    {
     "data": {
      "text/plain": [
       "21"
      ]
     },
     "execution_count": 103,
     "metadata": {},
     "output_type": "execute_result"
    },
    {
     "data": {
      "text/plain": [
       "20"
      ]
     },
     "execution_count": 103,
     "metadata": {},
     "output_type": "execute_result"
    },
    {
     "data": {
      "text/plain": [
       "24"
      ]
     },
     "execution_count": 103,
     "metadata": {},
     "output_type": "execute_result"
    },
    {
     "data": {
      "text/plain": [
       "22"
      ]
     },
     "execution_count": 103,
     "metadata": {},
     "output_type": "execute_result"
    },
    {
     "data": {
      "text/plain": [
       "28"
      ]
     },
     "execution_count": 103,
     "metadata": {},
     "output_type": "execute_result"
    },
    {
     "data": {
      "text/plain": [
       "27"
      ]
     },
     "execution_count": 103,
     "metadata": {},
     "output_type": "execute_result"
    },
    {
     "data": {
      "text/plain": [
       "25"
      ]
     },
     "execution_count": 103,
     "metadata": {},
     "output_type": "execute_result"
    },
    {
     "data": {
      "text/plain": [
       "18"
      ]
     },
     "execution_count": 103,
     "metadata": {},
     "output_type": "execute_result"
    },
    {
     "data": {
      "text/plain": [
       "20"
      ]
     },
     "execution_count": 103,
     "metadata": {},
     "output_type": "execute_result"
    },
    {
     "data": {
      "text/plain": [
       "25"
      ]
     },
     "execution_count": 103,
     "metadata": {},
     "output_type": "execute_result"
    },
    {
     "data": {
      "text/plain": [
       "27"
      ]
     },
     "execution_count": 103,
     "metadata": {},
     "output_type": "execute_result"
    },
    {
     "data": {
      "text/plain": [
       "19"
      ]
     },
     "execution_count": 103,
     "metadata": {},
     "output_type": "execute_result"
    },
    {
     "data": {
      "text/plain": [
       "23"
      ]
     },
     "execution_count": 103,
     "metadata": {},
     "output_type": "execute_result"
    },
    {
     "data": {
      "text/plain": [
       "23"
      ]
     },
     "execution_count": 103,
     "metadata": {},
     "output_type": "execute_result"
    },
    {
     "data": {
      "text/plain": [
       "30"
      ]
     },
     "execution_count": 103,
     "metadata": {},
     "output_type": "execute_result"
    },
    {
     "data": {
      "text/plain": [
       "18"
      ]
     },
     "execution_count": 103,
     "metadata": {},
     "output_type": "execute_result"
    },
    {
     "data": {
      "text/plain": [
       "26"
      ]
     },
     "execution_count": 103,
     "metadata": {},
     "output_type": "execute_result"
    },
    {
     "data": {
      "text/plain": [
       "18"
      ]
     },
     "execution_count": 103,
     "metadata": {},
     "output_type": "execute_result"
    },
    {
     "data": {
      "text/plain": [
       "16"
      ]
     },
     "execution_count": 103,
     "metadata": {},
     "output_type": "execute_result"
    },
    {
     "data": {
      "text/plain": [
       "29"
      ]
     },
     "execution_count": 103,
     "metadata": {},
     "output_type": "execute_result"
    },
    {
     "data": {
      "text/plain": [
       "17"
      ]
     },
     "execution_count": 103,
     "metadata": {},
     "output_type": "execute_result"
    },
    {
     "data": {
      "text/plain": [
       "17"
      ]
     },
     "execution_count": 103,
     "metadata": {},
     "output_type": "execute_result"
    },
    {
     "data": {
      "text/plain": [
       "22"
      ]
     },
     "execution_count": 103,
     "metadata": {},
     "output_type": "execute_result"
    },
    {
     "data": {
      "text/plain": [
       "16"
      ]
     },
     "execution_count": 103,
     "metadata": {},
     "output_type": "execute_result"
    },
    {
     "data": {
      "text/plain": [
       "14"
      ]
     },
     "execution_count": 103,
     "metadata": {},
     "output_type": "execute_result"
    },
    {
     "data": {
      "text/plain": [
       "18"
      ]
     },
     "execution_count": 103,
     "metadata": {},
     "output_type": "execute_result"
    },
    {
     "data": {
      "text/plain": [
       "21"
      ]
     },
     "execution_count": 103,
     "metadata": {},
     "output_type": "execute_result"
    },
    {
     "data": {
      "text/plain": [
       "16"
      ]
     },
     "execution_count": 103,
     "metadata": {},
     "output_type": "execute_result"
    },
    {
     "data": {
      "text/plain": [
       "18"
      ]
     },
     "execution_count": 103,
     "metadata": {},
     "output_type": "execute_result"
    },
    {
     "data": {
      "text/plain": [
       "24"
      ]
     },
     "execution_count": 103,
     "metadata": {},
     "output_type": "execute_result"
    },
    {
     "data": {
      "text/plain": [
       "25"
      ]
     },
     "execution_count": 103,
     "metadata": {},
     "output_type": "execute_result"
    },
    {
     "data": {
      "text/plain": [
       "26"
      ]
     },
     "execution_count": 103,
     "metadata": {},
     "output_type": "execute_result"
    },
    {
     "data": {
      "text/plain": [
       "17"
      ]
     },
     "execution_count": 103,
     "metadata": {},
     "output_type": "execute_result"
    },
    {
     "data": {
      "text/plain": [
       "17"
      ]
     },
     "execution_count": 103,
     "metadata": {},
     "output_type": "execute_result"
    },
    {
     "data": {
      "text/plain": [
       "24"
      ]
     },
     "execution_count": 103,
     "metadata": {},
     "output_type": "execute_result"
    },
    {
     "data": {
      "text/plain": [
       "18"
      ]
     },
     "execution_count": 103,
     "metadata": {},
     "output_type": "execute_result"
    },
    {
     "data": {
      "text/plain": [
       "23"
      ]
     },
     "execution_count": 103,
     "metadata": {},
     "output_type": "execute_result"
    },
    {
     "data": {
      "text/plain": [
       "16"
      ]
     },
     "execution_count": 103,
     "metadata": {},
     "output_type": "execute_result"
    },
    {
     "data": {
      "text/plain": [
       "16"
      ]
     },
     "execution_count": 103,
     "metadata": {},
     "output_type": "execute_result"
    },
    {
     "data": {
      "text/plain": [
       "25"
      ]
     },
     "execution_count": 103,
     "metadata": {},
     "output_type": "execute_result"
    },
    {
     "data": {
      "text/plain": [
       "29"
      ]
     },
     "execution_count": 103,
     "metadata": {},
     "output_type": "execute_result"
    },
    {
     "data": {
      "text/plain": [
       "17"
      ]
     },
     "execution_count": 103,
     "metadata": {},
     "output_type": "execute_result"
    },
    {
     "data": {
      "text/plain": [
       "18"
      ]
     },
     "execution_count": 103,
     "metadata": {},
     "output_type": "execute_result"
    },
    {
     "data": {
      "text/plain": [
       "14"
      ]
     },
     "execution_count": 103,
     "metadata": {},
     "output_type": "execute_result"
    },
    {
     "data": {
      "text/plain": [
       "16"
      ]
     },
     "execution_count": 103,
     "metadata": {},
     "output_type": "execute_result"
    },
    {
     "data": {
      "text/plain": [
       "20"
      ]
     },
     "execution_count": 103,
     "metadata": {},
     "output_type": "execute_result"
    },
    {
     "data": {
      "text/plain": [
       "17"
      ]
     },
     "execution_count": 103,
     "metadata": {},
     "output_type": "execute_result"
    },
    {
     "data": {
      "text/plain": [
       "16"
      ]
     },
     "execution_count": 103,
     "metadata": {},
     "output_type": "execute_result"
    },
    {
     "data": {
      "text/plain": [
       "18"
      ]
     },
     "execution_count": 103,
     "metadata": {},
     "output_type": "execute_result"
    },
    {
     "data": {
      "text/plain": [
       "29"
      ]
     },
     "execution_count": 103,
     "metadata": {},
     "output_type": "execute_result"
    },
    {
     "data": {
      "text/plain": [
       "17"
      ]
     },
     "execution_count": 103,
     "metadata": {},
     "output_type": "execute_result"
    },
    {
     "data": {
      "text/plain": [
       "17"
      ]
     },
     "execution_count": 103,
     "metadata": {},
     "output_type": "execute_result"
    },
    {
     "data": {
      "text/plain": [
       "16"
      ]
     },
     "execution_count": 103,
     "metadata": {},
     "output_type": "execute_result"
    },
    {
     "data": {
      "text/plain": [
       "18"
      ]
     },
     "execution_count": 103,
     "metadata": {},
     "output_type": "execute_result"
    },
    {
     "data": {
      "text/plain": [
       "25"
      ]
     },
     "execution_count": 103,
     "metadata": {},
     "output_type": "execute_result"
    },
    {
     "data": {
      "text/plain": [
       "16"
      ]
     },
     "execution_count": 103,
     "metadata": {},
     "output_type": "execute_result"
    },
    {
     "data": {
      "text/plain": [
       "25"
      ]
     },
     "execution_count": 103,
     "metadata": {},
     "output_type": "execute_result"
    },
    {
     "data": {
      "text/plain": [
       "16"
      ]
     },
     "execution_count": 103,
     "metadata": {},
     "output_type": "execute_result"
    },
    {
     "data": {
      "text/plain": [
       "25"
      ]
     },
     "execution_count": 103,
     "metadata": {},
     "output_type": "execute_result"
    },
    {
     "data": {
      "text/plain": [
       "29"
      ]
     },
     "execution_count": 103,
     "metadata": {},
     "output_type": "execute_result"
    },
    {
     "data": {
      "text/plain": [
       "17"
      ]
     },
     "execution_count": 103,
     "metadata": {},
     "output_type": "execute_result"
    },
    {
     "data": {
      "text/plain": [
       "18"
      ]
     },
     "execution_count": 103,
     "metadata": {},
     "output_type": "execute_result"
    },
    {
     "data": {
      "text/plain": [
       "25"
      ]
     },
     "execution_count": 103,
     "metadata": {},
     "output_type": "execute_result"
    },
    {
     "data": {
      "text/plain": [
       "15"
      ]
     },
     "execution_count": 103,
     "metadata": {},
     "output_type": "execute_result"
    },
    {
     "data": {
      "text/plain": [
       "16"
      ]
     },
     "execution_count": 103,
     "metadata": {},
     "output_type": "execute_result"
    },
    {
     "data": {
      "text/plain": [
       "18"
      ]
     },
     "execution_count": 103,
     "metadata": {},
     "output_type": "execute_result"
    },
    {
     "data": {
      "text/plain": [
       "17"
      ]
     },
     "execution_count": 103,
     "metadata": {},
     "output_type": "execute_result"
    },
    {
     "data": {
      "text/plain": [
       "18"
      ]
     },
     "execution_count": 103,
     "metadata": {},
     "output_type": "execute_result"
    },
    {
     "data": {
      "text/plain": [
       "17"
      ]
     },
     "execution_count": 103,
     "metadata": {},
     "output_type": "execute_result"
    },
    {
     "data": {
      "text/plain": [
       "22"
      ]
     },
     "execution_count": 103,
     "metadata": {},
     "output_type": "execute_result"
    },
    {
     "data": {
      "text/plain": [
       "19"
      ]
     },
     "execution_count": 103,
     "metadata": {},
     "output_type": "execute_result"
    },
    {
     "data": {
      "text/plain": [
       "29"
      ]
     },
     "execution_count": 103,
     "metadata": {},
     "output_type": "execute_result"
    },
    {
     "data": {
      "text/plain": [
       "17"
      ]
     },
     "execution_count": 103,
     "metadata": {},
     "output_type": "execute_result"
    },
    {
     "data": {
      "text/plain": [
       "18"
      ]
     },
     "execution_count": 103,
     "metadata": {},
     "output_type": "execute_result"
    },
    {
     "data": {
      "text/plain": [
       "19"
      ]
     },
     "execution_count": 103,
     "metadata": {},
     "output_type": "execute_result"
    },
    {
     "data": {
      "text/plain": [
       "24"
      ]
     },
     "execution_count": 103,
     "metadata": {},
     "output_type": "execute_result"
    },
    {
     "data": {
      "text/plain": [
       "25"
      ]
     },
     "execution_count": 103,
     "metadata": {},
     "output_type": "execute_result"
    },
    {
     "data": {
      "text/plain": [
       "23"
      ]
     },
     "execution_count": 103,
     "metadata": {},
     "output_type": "execute_result"
    },
    {
     "data": {
      "text/plain": [
       "19"
      ]
     },
     "execution_count": 103,
     "metadata": {},
     "output_type": "execute_result"
    },
    {
     "data": {
      "text/plain": [
       "18"
      ]
     },
     "execution_count": 103,
     "metadata": {},
     "output_type": "execute_result"
    },
    {
     "data": {
      "text/plain": [
       "17"
      ]
     },
     "execution_count": 103,
     "metadata": {},
     "output_type": "execute_result"
    },
    {
     "data": {
      "text/plain": [
       "19"
      ]
     },
     "execution_count": 103,
     "metadata": {},
     "output_type": "execute_result"
    },
    {
     "data": {
      "text/plain": [
       "30"
      ]
     },
     "execution_count": 103,
     "metadata": {},
     "output_type": "execute_result"
    },
    {
     "data": {
      "text/plain": [
       "23"
      ]
     },
     "execution_count": 103,
     "metadata": {},
     "output_type": "execute_result"
    },
    {
     "data": {
      "text/plain": [
       "26"
      ]
     },
     "execution_count": 103,
     "metadata": {},
     "output_type": "execute_result"
    },
    {
     "data": {
      "text/plain": [
       "33"
      ]
     },
     "execution_count": 103,
     "metadata": {},
     "output_type": "execute_result"
    },
    {
     "data": {
      "text/plain": [
       "22"
      ]
     },
     "execution_count": 103,
     "metadata": {},
     "output_type": "execute_result"
    },
    {
     "data": {
      "text/plain": [
       "32"
      ]
     },
     "execution_count": 103,
     "metadata": {},
     "output_type": "execute_result"
    },
    {
     "data": {
      "text/plain": [
       "20"
      ]
     },
     "execution_count": 103,
     "metadata": {},
     "output_type": "execute_result"
    },
    {
     "data": {
      "text/plain": [
       "22"
      ]
     },
     "execution_count": 103,
     "metadata": {},
     "output_type": "execute_result"
    },
    {
     "data": {
      "text/plain": [
       "25"
      ]
     },
     "execution_count": 103,
     "metadata": {},
     "output_type": "execute_result"
    },
    {
     "data": {
      "text/plain": [
       "19"
      ]
     },
     "execution_count": 103,
     "metadata": {},
     "output_type": "execute_result"
    },
    {
     "data": {
      "text/plain": [
       "21"
      ]
     },
     "execution_count": 103,
     "metadata": {},
     "output_type": "execute_result"
    },
    {
     "data": {
      "text/plain": [
       "21"
      ]
     },
     "execution_count": 103,
     "metadata": {},
     "output_type": "execute_result"
    },
    {
     "data": {
      "text/plain": [
       "22"
      ]
     },
     "execution_count": 103,
     "metadata": {},
     "output_type": "execute_result"
    },
    {
     "data": {
      "text/plain": [
       "33"
      ]
     },
     "execution_count": 103,
     "metadata": {},
     "output_type": "execute_result"
    },
    {
     "data": {
      "text/plain": [
       "23"
      ]
     },
     "execution_count": 103,
     "metadata": {},
     "output_type": "execute_result"
    },
    {
     "data": {
      "text/plain": [
       "19"
      ]
     },
     "execution_count": 103,
     "metadata": {},
     "output_type": "execute_result"
    },
    {
     "data": {
      "text/plain": [
       "22"
      ]
     },
     "execution_count": 103,
     "metadata": {},
     "output_type": "execute_result"
    },
    {
     "data": {
      "text/plain": [
       "17"
      ]
     },
     "execution_count": 103,
     "metadata": {},
     "output_type": "execute_result"
    },
    {
     "data": {
      "text/plain": [
       "17"
      ]
     },
     "execution_count": 103,
     "metadata": {},
     "output_type": "execute_result"
    },
    {
     "data": {
      "text/plain": [
       "18"
      ]
     },
     "execution_count": 103,
     "metadata": {},
     "output_type": "execute_result"
    },
    {
     "data": {
      "text/plain": [
       "19"
      ]
     },
     "execution_count": 103,
     "metadata": {},
     "output_type": "execute_result"
    },
    {
     "data": {
      "text/plain": [
       "24"
      ]
     },
     "execution_count": 103,
     "metadata": {},
     "output_type": "execute_result"
    },
    {
     "data": {
      "text/plain": [
       "26"
      ]
     },
     "execution_count": 103,
     "metadata": {},
     "output_type": "execute_result"
    },
    {
     "data": {
      "text/plain": [
       "15"
      ]
     },
     "execution_count": 103,
     "metadata": {},
     "output_type": "execute_result"
    },
    {
     "data": {
      "text/plain": [
       "29"
      ]
     },
     "execution_count": 103,
     "metadata": {},
     "output_type": "execute_result"
    },
    {
     "data": {
      "text/plain": [
       "20"
      ]
     },
     "execution_count": 103,
     "metadata": {},
     "output_type": "execute_result"
    },
    {
     "data": {
      "text/plain": [
       "27"
      ]
     },
     "execution_count": 103,
     "metadata": {},
     "output_type": "execute_result"
    },
    {
     "data": {
      "text/plain": [
       "19"
      ]
     },
     "execution_count": 103,
     "metadata": {},
     "output_type": "execute_result"
    },
    {
     "data": {
      "text/plain": [
       "22"
      ]
     },
     "execution_count": 103,
     "metadata": {},
     "output_type": "execute_result"
    },
    {
     "data": {
      "text/plain": [
       "22"
      ]
     },
     "execution_count": 103,
     "metadata": {},
     "output_type": "execute_result"
    },
    {
     "data": {
      "text/plain": [
       "18"
      ]
     },
     "execution_count": 103,
     "metadata": {},
     "output_type": "execute_result"
    },
    {
     "data": {
      "text/plain": [
       "17"
      ]
     },
     "execution_count": 103,
     "metadata": {},
     "output_type": "execute_result"
    },
    {
     "data": {
      "text/plain": [
       "23"
      ]
     },
     "execution_count": 103,
     "metadata": {},
     "output_type": "execute_result"
    },
    {
     "data": {
      "text/plain": [
       "20"
      ]
     },
     "execution_count": 103,
     "metadata": {},
     "output_type": "execute_result"
    },
    {
     "data": {
      "text/plain": [
       "28"
      ]
     },
     "execution_count": 103,
     "metadata": {},
     "output_type": "execute_result"
    },
    {
     "data": {
      "text/plain": [
       "14"
      ]
     },
     "execution_count": 103,
     "metadata": {},
     "output_type": "execute_result"
    },
    {
     "data": {
      "text/plain": [
       "27"
      ]
     },
     "execution_count": 103,
     "metadata": {},
     "output_type": "execute_result"
    },
    {
     "data": {
      "text/plain": [
       "14"
      ]
     },
     "execution_count": 103,
     "metadata": {},
     "output_type": "execute_result"
    },
    {
     "data": {
      "text/plain": [
       "16"
      ]
     },
     "execution_count": 103,
     "metadata": {},
     "output_type": "execute_result"
    },
    {
     "data": {
      "text/plain": [
       "23"
      ]
     },
     "execution_count": 103,
     "metadata": {},
     "output_type": "execute_result"
    },
    {
     "data": {
      "text/plain": [
       "22"
      ]
     },
     "execution_count": 103,
     "metadata": {},
     "output_type": "execute_result"
    },
    {
     "data": {
      "text/plain": [
       "18"
      ]
     },
     "execution_count": 103,
     "metadata": {},
     "output_type": "execute_result"
    },
    {
     "data": {
      "text/plain": [
       "23"
      ]
     },
     "execution_count": 103,
     "metadata": {},
     "output_type": "execute_result"
    },
    {
     "data": {
      "text/plain": [
       "16"
      ]
     },
     "execution_count": 103,
     "metadata": {},
     "output_type": "execute_result"
    },
    {
     "data": {
      "text/plain": [
       "15"
      ]
     },
     "execution_count": 103,
     "metadata": {},
     "output_type": "execute_result"
    },
    {
     "data": {
      "text/plain": [
       "15"
      ]
     },
     "execution_count": 103,
     "metadata": {},
     "output_type": "execute_result"
    },
    {
     "data": {
      "text/plain": [
       "15"
      ]
     },
     "execution_count": 103,
     "metadata": {},
     "output_type": "execute_result"
    },
    {
     "data": {
      "text/plain": [
       "14"
      ]
     },
     "execution_count": 103,
     "metadata": {},
     "output_type": "execute_result"
    },
    {
     "data": {
      "text/plain": [
       "14"
      ]
     },
     "execution_count": 103,
     "metadata": {},
     "output_type": "execute_result"
    },
    {
     "data": {
      "text/plain": [
       "16"
      ]
     },
     "execution_count": 103,
     "metadata": {},
     "output_type": "execute_result"
    },
    {
     "data": {
      "text/plain": [
       "22"
      ]
     },
     "execution_count": 103,
     "metadata": {},
     "output_type": "execute_result"
    },
    {
     "data": {
      "text/plain": [
       "14"
      ]
     },
     "execution_count": 103,
     "metadata": {},
     "output_type": "execute_result"
    },
    {
     "data": {
      "text/plain": [
       "20"
      ]
     },
     "execution_count": 103,
     "metadata": {},
     "output_type": "execute_result"
    },
    {
     "data": {
      "text/plain": [
       "23"
      ]
     },
     "execution_count": 103,
     "metadata": {},
     "output_type": "execute_result"
    },
    {
     "data": {
      "text/plain": [
       "16"
      ]
     },
     "execution_count": 103,
     "metadata": {},
     "output_type": "execute_result"
    },
    {
     "data": {
      "text/plain": [
       "16"
      ]
     },
     "execution_count": 103,
     "metadata": {},
     "output_type": "execute_result"
    },
    {
     "data": {
      "text/plain": [
       "29"
      ]
     },
     "execution_count": 103,
     "metadata": {},
     "output_type": "execute_result"
    },
    {
     "data": {
      "text/plain": [
       "18"
      ]
     },
     "execution_count": 103,
     "metadata": {},
     "output_type": "execute_result"
    },
    {
     "data": {
      "text/plain": [
       "16"
      ]
     },
     "execution_count": 103,
     "metadata": {},
     "output_type": "execute_result"
    },
    {
     "data": {
      "text/plain": [
       "15"
      ]
     },
     "execution_count": 103,
     "metadata": {},
     "output_type": "execute_result"
    },
    {
     "data": {
      "text/plain": [
       "16"
      ]
     },
     "execution_count": 103,
     "metadata": {},
     "output_type": "execute_result"
    },
    {
     "data": {
      "text/plain": [
       "21"
      ]
     },
     "execution_count": 103,
     "metadata": {},
     "output_type": "execute_result"
    },
    {
     "data": {
      "text/plain": [
       "24"
      ]
     },
     "execution_count": 103,
     "metadata": {},
     "output_type": "execute_result"
    },
    {
     "data": {
      "text/plain": [
       "14"
      ]
     },
     "execution_count": 103,
     "metadata": {},
     "output_type": "execute_result"
    },
    {
     "data": {
      "text/plain": [
       "16"
      ]
     },
     "execution_count": 103,
     "metadata": {},
     "output_type": "execute_result"
    },
    {
     "data": {
      "text/plain": [
       "22"
      ]
     },
     "execution_count": 103,
     "metadata": {},
     "output_type": "execute_result"
    },
    {
     "data": {
      "text/plain": [
       "29"
      ]
     },
     "execution_count": 103,
     "metadata": {},
     "output_type": "execute_result"
    },
    {
     "data": {
      "text/plain": [
       "20"
      ]
     },
     "execution_count": 103,
     "metadata": {},
     "output_type": "execute_result"
    },
    {
     "data": {
      "text/plain": [
       "23"
      ]
     },
     "execution_count": 103,
     "metadata": {},
     "output_type": "execute_result"
    },
    {
     "data": {
      "text/plain": [
       "26"
      ]
     },
     "execution_count": 103,
     "metadata": {},
     "output_type": "execute_result"
    },
    {
     "data": {
      "text/plain": [
       "20"
      ]
     },
     "execution_count": 103,
     "metadata": {},
     "output_type": "execute_result"
    },
    {
     "data": {
      "text/plain": [
       "19"
      ]
     },
     "execution_count": 103,
     "metadata": {},
     "output_type": "execute_result"
    },
    {
     "data": {
      "text/plain": [
       "24"
      ]
     },
     "execution_count": 103,
     "metadata": {},
     "output_type": "execute_result"
    },
    {
     "data": {
      "text/plain": [
       "26"
      ]
     },
     "execution_count": 103,
     "metadata": {},
     "output_type": "execute_result"
    },
    {
     "data": {
      "text/plain": [
       "25"
      ]
     },
     "execution_count": 103,
     "metadata": {},
     "output_type": "execute_result"
    },
    {
     "data": {
      "text/plain": [
       "15"
      ]
     },
     "execution_count": 103,
     "metadata": {},
     "output_type": "execute_result"
    },
    {
     "data": {
      "text/plain": [
       "28"
      ]
     },
     "execution_count": 103,
     "metadata": {},
     "output_type": "execute_result"
    },
    {
     "data": {
      "text/plain": [
       "17"
      ]
     },
     "execution_count": 103,
     "metadata": {},
     "output_type": "execute_result"
    },
    {
     "data": {
      "text/plain": [
       "25"
      ]
     },
     "execution_count": 103,
     "metadata": {},
     "output_type": "execute_result"
    },
    {
     "data": {
      "text/plain": [
       "17"
      ]
     },
     "execution_count": 103,
     "metadata": {},
     "output_type": "execute_result"
    },
    {
     "data": {
      "text/plain": [
       "16"
      ]
     },
     "execution_count": 103,
     "metadata": {},
     "output_type": "execute_result"
    },
    {
     "data": {
      "text/plain": [
       "16"
      ]
     },
     "execution_count": 103,
     "metadata": {},
     "output_type": "execute_result"
    },
    {
     "data": {
      "text/plain": [
       "28"
      ]
     },
     "execution_count": 103,
     "metadata": {},
     "output_type": "execute_result"
    },
    {
     "data": {
      "text/plain": [
       "18"
      ]
     },
     "execution_count": 103,
     "metadata": {},
     "output_type": "execute_result"
    },
    {
     "data": {
      "text/plain": [
       "30"
      ]
     },
     "execution_count": 103,
     "metadata": {},
     "output_type": "execute_result"
    }
   ],
   "source": [
    "# Write to csv\n",
    "\n",
    "csv_file_name = 'sorted_cuisine_ingred.csv'\n",
    "\n",
    "with open(csv_file_name, 'w', newline='') as csv_file:\n",
    "    writer = csv.writer(csv_file)\n",
    "\n",
    "    # Write the header row\n",
    "    writer.writerow(['Cuisine', 'Ingredient', 'Count'])\n",
    "\n",
    "    # Write the data rows\n",
    "    for cuisine, ingredients in sorted_cuisine_ingred.items():\n",
    "        for ingredient, count in ingredients.items():\n",
    "            writer.writerow([cuisine, ingredient, count])\n"
   ]
  }
 ],
 "metadata": {
  "kernelspec": {
   "display_name": "Python 3 (ipykernel)",
   "language": "python",
   "name": "python3"
  },
  "language_info": {
   "codemirror_mode": {
    "name": "ipython",
    "version": 3
   },
   "file_extension": ".py",
   "mimetype": "text/x-python",
   "name": "python",
   "nbconvert_exporter": "python",
   "pygments_lexer": "ipython3",
   "version": "3.11.4"
  }
 },
 "nbformat": 4,
 "nbformat_minor": 5
}
