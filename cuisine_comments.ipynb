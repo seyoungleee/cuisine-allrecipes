{
 "cells": [
  {
   "cell_type": "code",
   "execution_count": 1,
   "id": "53e010e5",
   "metadata": {},
   "outputs": [],
   "source": [
    "# Set up\n",
    "import os\n",
    "import csv\n",
    "import string\n",
    "\n",
    "from pathlib import Path\n",
    "from nltk.tokenize import word_tokenize\n",
    "\n",
    "from textblob import TextBlob"
   ]
  },
  {
   "cell_type": "code",
   "execution_count": 7,
   "id": "b47bbef6",
   "metadata": {},
   "outputs": [],
   "source": [
    "# Organize text by cuisine\n",
    "current_directory = Path.cwd()\n",
    "text_folder_path = current_directory / \"text\"\n",
    "\n",
    "cuisine_comments = {}\n",
    "\n",
    "for filename in os.listdir(text_folder_path):\n",
    "    file_path = os.path.join(text_folder_path, filename)\n",
    "\n",
    "    cuisine_name = filename.split('_')[0]\n",
    "\n",
    "    with open(file_path, 'r', encoding='utf-8') as file:\n",
    "        comments = file.read()\n",
    "        \n",
    "    comments = comments.lower()\n",
    "    comments = comments.translate(str.maketrans(\"\", \"\", string.punctuation))\n",
    "    comments = comments.strip()\n",
    "\n",
    "    # Add comments to the dictionary for the corresponding cuisine\n",
    "    if cuisine_name in cuisine_comments:\n",
    "        cuisine_comments[cuisine_name][\"Comments\"] += comments + \" \"\n",
    "    else:\n",
    "        cuisine_comments[cuisine_name] = {\"Comments\": comments + \" \"}\n",
    "    "
   ]
  },
  {
   "cell_type": "code",
   "execution_count": 17,
   "id": "e8afca00",
   "metadata": {},
   "outputs": [],
   "source": [
    "# Create dictionary of subjectivity and polarity\n",
    "# Citations: https://towardsdatascience.com/text-analysis-basics-in-python-443282942ec5\n",
    "def create_subject_polar(cuisine_comments):\n",
    "    sentiment_analysis = {}\n",
    "\n",
    "    # Iterate through each cuisine and its comments\n",
    "    for cuisine_name, data in cuisine_comments.items():\n",
    "        comments = data[\"Comments\"]\n",
    "\n",
    "        blob = TextBlob(comments)\n",
    "\n",
    "        # Calculate average subjectivity and polarity\n",
    "        subjectivity = blob.sentiment.subjectivity\n",
    "        polarity = blob.sentiment.polarity\n",
    "\n",
    "        # Add sentiment analysis to the new dictionary\n",
    "        sentiment_analysis[cuisine_name] = {\"Subjectivity\": round(subjectivity, 5),\n",
    "                                            \"Polarity\": round(polarity, 5)}\n",
    "    \n",
    "    return sentiment_analysis\n",
    "\n",
    "sentiment_analysis = create_subject_polar(cuisine_comments)"
   ]
  },
  {
   "cell_type": "code",
   "execution_count": 21,
   "id": "5af53d7c",
   "metadata": {},
   "outputs": [
    {
     "name": "stdout",
     "output_type": "stream",
     "text": [
      "Belgian: 0.57889 Colombian: 0.49665\n",
      "Argentinian: 0.27126 Indonesian: 0.17954\n"
     ]
    }
   ],
   "source": [
    "# Find min and max subjectivity score\n",
    "max_subject_cuisine = max(sentiment_analysis, key=lambda k: sentiment_analysis[k][\"Subjectivity\"])\n",
    "min_subject_cuisine = min(sentiment_analysis, key=lambda k: sentiment_analysis[k][\"Subjectivity\"])\n",
    "\n",
    "max_subject_score = sentiment_analysis[max_subject_cuisine][\"Subjectivity\"]\n",
    "min_subject_score = sentiment_analysis[min_subject_cuisine][\"Subjectivity\"]\n",
    "\n",
    "print(f\"{max_subject_cuisine}: {max_subject_score}\",\n",
    "      f\"{min_subject_cuisine}: {min_subject_score}\")\n",
    "\n",
    "# Find min and max polarity score\n",
    "max_polar_cuisine = max(sentiment_analysis, key=lambda k: sentiment_analysis[k][\"Polarity\"])\n",
    "min_polar_cuisine = min(sentiment_analysis, key=lambda k: sentiment_analysis[k][\"Polarity\"])\n",
    "\n",
    "max_polar_score = sentiment_analysis[max_polar_cuisine][\"Polarity\"]\n",
    "min_polar_score = sentiment_analysis[min_polar_cuisine][\"Polarity\"]\n",
    "\n",
    "print(f\"{max_polar_cuisine}: {max_polar_score}\",\n",
    "      f\"{min_polar_cuisine}: {min_polar_score}\")"
   ]
  },
  {
   "cell_type": "code",
   "execution_count": 16,
   "id": "b8e5a981",
   "metadata": {},
   "outputs": [],
   "source": [
    "# Write it to csv file\n",
    "csv_file_path = current_directory / \"sentiment_analysis.csv\"\n",
    "\n",
    "with open(csv_file_path, 'w', newline='', encoding='utf-8') as csv_file:\n",
    "    fieldnames = ['Cuisine', 'Subjectivity', 'Polarity']\n",
    "    writer = csv.DictWriter(csv_file, fieldnames=fieldnames)\n",
    "\n",
    "    writer.writeheader()\n",
    "\n",
    "    for cuisine_name, data in sentiment_analysis.items():\n",
    "        writer.writerow({'Cuisine': cuisine_name,\n",
    "                         'Subjectivity': data['Subjectivity'],\n",
    "                         'Polarity': data['Polarity']})"
   ]
  }
 ],
 "metadata": {
  "kernelspec": {
   "display_name": "Python 3 (ipykernel)",
   "language": "python",
   "name": "python3"
  },
  "language_info": {
   "codemirror_mode": {
    "name": "ipython",
    "version": 3
   },
   "file_extension": ".py",
   "mimetype": "text/x-python",
   "name": "python",
   "nbconvert_exporter": "python",
   "pygments_lexer": "ipython3",
   "version": "3.11.4"
  }
 },
 "nbformat": 4,
 "nbformat_minor": 5
}
